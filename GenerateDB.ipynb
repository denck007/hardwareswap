{
 "cells": [
  {
   "cell_type": "code",
   "execution_count": null,
   "metadata": {},
   "outputs": [],
   "source": [
    "from sqlalchemy import or_\n",
    "from sqlalchemy.orm import sessionmaker\n",
    "from HardwareSwap.Models import Base, engine, Post, PostType, get_or_create\n",
    "import tqdm"
   ]
  },
  {
   "cell_type": "code",
   "execution_count": null,
   "metadata": {},
   "outputs": [],
   "source": [
    "Base.metadata.create_all(engine)\n",
    "Session = sessionmaker(bind = engine)"
   ]
  },
  {
   "cell_type": "code",
   "execution_count": null,
   "metadata": {},
   "outputs": [],
   "source": [
    "s = Session()\n",
    "buy = get_or_create(s, PostType, post_type=\"buy\")\n",
    "sell = get_or_create(s, PostType, post_type=\"sell\")\n",
    "trade = get_or_create(s, PostType, post_type=\"trade\")\n",
    "giveaway = get_or_create(s, PostType, post_type=\"giveaway\")"
   ]
  },
  {
   "cell_type": "code",
   "execution_count": null,
   "metadata": {},
   "outputs": [],
   "source": [
    "%load_ext autoreload\n",
    "%autoreload 1\n",
    "%aimport HardwareSwap\n",
    "%aimport HardwareSwap.DownloadData\n",
    "%aimport HardwareSwap.DownloadData.download_data\n",
    "from HardwareSwap.DownloadData import download_data, remove_duplicate_rows\n",
    "import os\n",
    "import datetime\n",
    "import pytz\n",
    "import pandas as pd"
   ]
  },
  {
   "cell_type": "code",
   "execution_count": null,
   "metadata": {},
   "outputs": [],
   "source": []
  },
  {
   "cell_type": "code",
   "execution_count": null,
   "metadata": {},
   "outputs": [],
   "source": [
    "json_dir = \"/home/neil/RandomProjects/hardwareswap/raw_data/\"\n",
    "raw_data = download_data.load_dataframe_from_disk(os.path.join(json_dir, \"data_*-*.json\"), limit=1000)\n",
    "\n",
    "print(f\"Found {len(raw_data)} posts\")\n"
   ]
  },
  {
   "cell_type": "code",
   "execution_count": null,
   "metadata": {},
   "outputs": [],
   "source": [
    "raw_data = remove_duplicate_rows(raw_data, \"id\", [idx[0] for idx in s.query(Post.id).all()])"
   ]
  },
  {
   "cell_type": "code",
   "execution_count": null,
   "metadata": {},
   "outputs": [],
   "source": []
  },
  {
   "cell_type": "code",
   "execution_count": null,
   "metadata": {},
   "outputs": [],
   "source": [
    "m = {\n",
    "    list: \"String\",\n",
    "     str: \"String\",\n",
    "    dict: \"String\",\n",
    "     int: \"Integer\",\n",
    "     float: \"Float\",\n",
    "     bool: \"Boolean\",\n",
    "     np.bool_: \"Boolean\",\n",
    "     np.int64: \"Integer\",\n",
    "     np.float64: \"Float\",\n",
    "    }\n",
    "\n",
    "needs_json = []\n",
    "needs_datetime = []\n",
    "for col in raw_data.columns:\n",
    "    try:\n",
    "        col_values = raw_data[col].unique()\n",
    "        col_types = {type(val) for val in col_values}\n",
    "    except TypeError:\n",
    "        col_types = {type([])}\n",
    "    \n",
    "    if (len(col_types) > 1) and (type(None) in col_types):\n",
    "        col_types.remove(type(None))\n",
    "        \n",
    "    if (len(col_types) > 1) and (float in col_types):\n",
    "        col_types.remove(float)\n",
    "        \n",
    "    if (list in col_types) or (dict in col_types):\n",
    "        needs_json.append(col)\n",
    "    \n",
    "    sql_type=\"\"\n",
    "    if len(col_types) == 1 and list(col_types)[0] in m:\n",
    "        sql_type = m[col_types.pop()]\n",
    "    \n",
    "    if \"_utc\" in col:\n",
    "        sql_type=\"DateTime\"\n",
    "        needs_datetime.append(col)\n",
    "    print(f\"{col} = Column({sql_type})\")\n",
    "    if sql_type==\"\":\n",
    "        print(f\"\\t{col_types}\")\n",
    "    \n",
    "    #if col == \"author_flair_background_color\":\n",
    "    #    break\n",
    "    \n",
    "print(needs_json)\n",
    "print(needs_datetime)"
   ]
  },
  {
   "cell_type": "raw",
   "metadata": {},
   "source": [
    "json_dir = \"/home/neil/RandomProjects/hardwareswap/raw_data/\"\n",
    "raw_data = download_data.load_dataframe_from_disk(os.path.join(json_dir, \"data_*-*.json\"), limit=None)\n",
    "print(f\"Found {len(raw_data)} posts\")\n",
    "\n",
    "existing_post_ids = [pid[0] for pid in s.query(Post.id).all()]\n",
    "\n",
    "counts = raw_data[\"id\"].value_counts()\n",
    "duplicate_posts = list(counts[counts>1].index)\n",
    "\n",
    "posts_to_remove = existing_post_ids + duplicate_posts\n",
    "\n",
    "raw_data = raw_data[~raw_data[\"id\"].isin(posts_to_remove)].copy()\n",
    "\n",
    "print(f\"Found {len(duplicate_posts)} duplicate posts\")\n",
    "print(f\"Found {len(raw_data)} posts to insert\")\n",
    "\n",
    "data = []\n",
    "for idx in tqdm.tqdm(range(len(raw_data))):\n",
    "    data.append( Post.clean_raw_data(raw=raw_data.iloc[idx].to_dict()) )\n",
    "\n",
    "print(f\"Inserting {len(data)} items...\", end=\"\")\n",
    "s.bulk_insert_mappings(Post,data)\n",
    "s.commit()\n",
    "print(f\" Done!\")"
   ]
  },
  {
   "cell_type": "code",
   "execution_count": null,
   "metadata": {},
   "outputs": [],
   "source": [
    "# Determine how many were just deleted\n",
    "n_author_deleted = s.query(Post).filter(Post.author==\"[deleted]\").update({\"deleted\":True})\n",
    "n_post_deleted =s.query(Post).filter(Post.selftext==\"[deleted]\").update({\"deleted\":True})\n",
    "n_post_removed =s.query(Post).filter(Post.selftext==\"[removed]\").update({\"deleted\":True})\n",
    "s.commit()\n",
    "print(f\"Author Deleted: {n_author_deleted} Post Deleted: {n_post_deleted} Post Removed: {n_post_removed} Total: {s.query(Post.id).filter(Post.deleted==True).count()}\")"
   ]
  },
  {
   "cell_type": "code",
   "execution_count": null,
   "metadata": {},
   "outputs": [],
   "source": []
  },
  {
   "cell_type": "code",
   "execution_count": null,
   "metadata": {},
   "outputs": [],
   "source": []
  }
 ],
 "metadata": {
  "kernelspec": {
   "display_name": "Python 3",
   "language": "python",
   "name": "python3"
  },
  "language_info": {
   "codemirror_mode": {
    "name": "ipython",
    "version": 3
   },
   "file_extension": ".py",
   "mimetype": "text/x-python",
   "name": "python",
   "nbconvert_exporter": "python",
   "pygments_lexer": "ipython3",
   "version": "3.6.9"
  }
 },
 "nbformat": 4,
 "nbformat_minor": 4
}
