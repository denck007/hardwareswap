{
 "cells": [
  {
   "cell_type": "code",
   "execution_count": 3,
   "metadata": {},
   "outputs": [],
   "source": [
    "from sqlalchemy import or_, func\n",
    "from sqlalchemy.orm import sessionmaker\n",
    "from HardwareSwap.Models import Base, engine, Post, PostType, get_or_create, Series, Manufacturer, Brand, GPU, PostBrand, PostManufacturer\n",
    "import tqdm"
   ]
  },
  {
   "cell_type": "code",
   "execution_count": 4,
   "metadata": {},
   "outputs": [],
   "source": [
    "recreate = False\n",
    "if recreate:\n",
    "    Base.metadata.drop_all(engine)\n",
    "Base.metadata.create_all(engine)\n",
    "Session = sessionmaker(bind = engine)"
   ]
  },
  {
   "cell_type": "code",
   "execution_count": 5,
   "metadata": {},
   "outputs": [],
   "source": [
    "s = Session()\n",
    "buying = get_or_create(s, PostType, post_type=\"buying\")\n",
    "selling = get_or_create(s, PostType, post_type=\"selling\")\n",
    "trading = get_or_create(s, PostType, post_type=\"trading\")\n",
    "giveaway = get_or_create(s, PostType, post_type=\"giveaway\")\n",
    "meta = get_or_create(s, PostType, post_type=\"meta\")\n",
    "official = get_or_create(s, PostType, post_type=\"official\")\n",
    "alert = get_or_create(s, PostType, post_type=\"alert\")\n"
   ]
  },
  {
   "cell_type": "code",
   "execution_count": 6,
   "metadata": {},
   "outputs": [],
   "source": [
    "%load_ext autoreload\n",
    "%autoreload 1\n",
    "%aimport HardwareSwap\n",
    "%aimport HardwareSwap.DownloadData\n",
    "%aimport HardwareSwap.DownloadData.download_data\n",
    "from HardwareSwap.DownloadData import download_data, remove_duplicate_rows\n",
    "import os\n",
    "import datetime\n",
    "import pytz\n",
    "import pandas as pd\n",
    "from HardwareSwap.Models.Post import get_regex_to_parse_title\n",
    "import re\n",
    "import json\n",
    "import matplotlib.pyplot as plt"
   ]
  },
  {
   "cell_type": "code",
   "execution_count": null,
   "metadata": {},
   "outputs": [],
   "source": []
  },
  {
   "cell_type": "code",
   "execution_count": 7,
   "metadata": {
    "collapsed": true,
    "jupyter": {
     "outputs_hidden": true
    }
   },
   "outputs": [
    {
     "name": "stdout",
     "output_type": "stream",
     "text": [
      "Found 100 posts\n"
     ]
    },
    {
     "name": "stderr",
     "output_type": "stream",
     "text": [
      "0it [00:00, ?it/s]\n"
     ]
    },
    {
     "name": "stdout",
     "output_type": "stream",
     "text": [
      "Inserting 0 items... Done!\n"
     ]
    },
    {
     "ename": "KeyboardInterrupt",
     "evalue": "",
     "output_type": "error",
     "traceback": [
      "\u001b[0;31m---------------------------------------------------------------------------\u001b[0m",
      "\u001b[0;31mKeyboardInterrupt\u001b[0m                         Traceback (most recent call last)",
      "\u001b[0;32m<ipython-input-7-367e55ae741e>\u001b[0m in \u001b[0;36m<module>\u001b[0;34m\u001b[0m\n\u001b[1;32m      5\u001b[0m \u001b[0mprint\u001b[0m\u001b[0;34m(\u001b[0m\u001b[0;34mf\"Found {len(raw_data)} posts\"\u001b[0m\u001b[0;34m)\u001b[0m\u001b[0;34m\u001b[0m\u001b[0;34m\u001b[0m\u001b[0m\n\u001b[1;32m      6\u001b[0m \u001b[0mPost\u001b[0m\u001b[0;34m.\u001b[0m\u001b[0mcreate_bulk\u001b[0m\u001b[0;34m(\u001b[0m\u001b[0mraw_data\u001b[0m\u001b[0;34m,\u001b[0m \u001b[0ms\u001b[0m\u001b[0;34m)\u001b[0m\u001b[0;34m\u001b[0m\u001b[0;34m\u001b[0m\u001b[0m\n\u001b[0;32m----> 7\u001b[0;31m \u001b[0mPost\u001b[0m\u001b[0;34m.\u001b[0m\u001b[0mclean\u001b[0m\u001b[0;34m(\u001b[0m\u001b[0ms\u001b[0m\u001b[0;34m)\u001b[0m\u001b[0;34m\u001b[0m\u001b[0;34m\u001b[0m\u001b[0m\n\u001b[0m",
      "\u001b[0;32m~/hardwareswap/HardwareSwap/Models/Post.py\u001b[0m in \u001b[0;36mclean\u001b[0;34m(cls, session)\u001b[0m\n\u001b[1;32m    196\u001b[0m         \u001b[0mcls\u001b[0m\u001b[0;34m.\u001b[0m\u001b[0m_parse_title\u001b[0m\u001b[0;34m(\u001b[0m\u001b[0msession\u001b[0m\u001b[0;34m)\u001b[0m\u001b[0;34m\u001b[0m\u001b[0;34m\u001b[0m\u001b[0m\n\u001b[1;32m    197\u001b[0m \u001b[0;34m\u001b[0m\u001b[0m\n\u001b[0;32m--> 198\u001b[0;31m         \u001b[0mcls\u001b[0m\u001b[0;34m.\u001b[0m\u001b[0m_set_post_type_by_link_flair\u001b[0m\u001b[0;34m(\u001b[0m\u001b[0msession\u001b[0m\u001b[0;34m)\u001b[0m\u001b[0;34m\u001b[0m\u001b[0;34m\u001b[0m\u001b[0m\n\u001b[0m\u001b[1;32m    199\u001b[0m         \u001b[0mcls\u001b[0m\u001b[0;34m.\u001b[0m\u001b[0m_set_post_type_by_parsing_title\u001b[0m\u001b[0;34m(\u001b[0m\u001b[0msession\u001b[0m\u001b[0;34m)\u001b[0m\u001b[0;34m\u001b[0m\u001b[0;34m\u001b[0m\u001b[0m\n\u001b[1;32m    200\u001b[0m \u001b[0;34m\u001b[0m\u001b[0m\n",
      "\u001b[0;32m~/hardwareswap/HardwareSwap/Models/Post.py\u001b[0m in \u001b[0;36m_set_post_type_by_link_flair\u001b[0;34m(cls, session)\u001b[0m\n\u001b[1;32m    219\u001b[0m         \u001b[0;32mfor\u001b[0m \u001b[0mpt\u001b[0m \u001b[0;32min\u001b[0m \u001b[0msession\u001b[0m\u001b[0;34m.\u001b[0m\u001b[0mquery\u001b[0m\u001b[0;34m(\u001b[0m\u001b[0mPostType\u001b[0m\u001b[0;34m)\u001b[0m\u001b[0;34m.\u001b[0m\u001b[0mall\u001b[0m\u001b[0;34m(\u001b[0m\u001b[0;34m)\u001b[0m\u001b[0;34m:\u001b[0m\u001b[0;34m\u001b[0m\u001b[0;34m\u001b[0m\u001b[0m\n\u001b[1;32m    220\u001b[0m             \u001b[0mmappings\u001b[0m \u001b[0;34m=\u001b[0m \u001b[0;34m[\u001b[0m\u001b[0;34m]\u001b[0m\u001b[0;34m\u001b[0m\u001b[0;34m\u001b[0m\u001b[0m\n\u001b[0;32m--> 221\u001b[0;31m             \u001b[0;32mfor\u001b[0m \u001b[0mitem\u001b[0m \u001b[0;32min\u001b[0m \u001b[0msession\u001b[0m\u001b[0;34m.\u001b[0m\u001b[0mquery\u001b[0m\u001b[0;34m(\u001b[0m\u001b[0mPost\u001b[0m\u001b[0;34m.\u001b[0m\u001b[0mid\u001b[0m\u001b[0;34m)\u001b[0m\u001b[0;34m.\u001b[0m\u001b[0mfilter\u001b[0m\u001b[0;34m(\u001b[0m\u001b[0mPost\u001b[0m\u001b[0;34m.\u001b[0m\u001b[0mdeleted\u001b[0m\u001b[0;34m==\u001b[0m\u001b[0;32mFalse\u001b[0m\u001b[0;34m,\u001b[0m \u001b[0mPost\u001b[0m\u001b[0;34m.\u001b[0m\u001b[0mlink_flair_text\u001b[0m\u001b[0;34m.\u001b[0m\u001b[0milike\u001b[0m\u001b[0;34m(\u001b[0m\u001b[0mpt\u001b[0m\u001b[0;34m.\u001b[0m\u001b[0mpost_type\u001b[0m\u001b[0;34m)\u001b[0m\u001b[0;34m)\u001b[0m\u001b[0;34m:\u001b[0m\u001b[0;34m\u001b[0m\u001b[0;34m\u001b[0m\u001b[0m\n\u001b[0m\u001b[1;32m    222\u001b[0m                 \u001b[0mmappings\u001b[0m\u001b[0;34m.\u001b[0m\u001b[0mappend\u001b[0m\u001b[0;34m(\u001b[0m\u001b[0;34m{\u001b[0m\u001b[0;34m\"id\"\u001b[0m\u001b[0;34m:\u001b[0m\u001b[0mitem\u001b[0m\u001b[0;34m[\u001b[0m\u001b[0;36m0\u001b[0m\u001b[0;34m]\u001b[0m\u001b[0;34m,\u001b[0m \u001b[0;34m\"post_type_id\"\u001b[0m\u001b[0;34m:\u001b[0m\u001b[0mpt\u001b[0m\u001b[0;34m.\u001b[0m\u001b[0mid\u001b[0m\u001b[0;34m}\u001b[0m\u001b[0;34m)\u001b[0m\u001b[0;34m\u001b[0m\u001b[0;34m\u001b[0m\u001b[0m\n\u001b[1;32m    223\u001b[0m             \u001b[0msession\u001b[0m\u001b[0;34m.\u001b[0m\u001b[0mbulk_update_mappings\u001b[0m\u001b[0;34m(\u001b[0m\u001b[0mPost\u001b[0m\u001b[0;34m,\u001b[0m \u001b[0mmappings\u001b[0m\u001b[0;34m)\u001b[0m\u001b[0;34m\u001b[0m\u001b[0;34m\u001b[0m\u001b[0m\n",
      "\u001b[0;32m~/anaconda3/lib/python3.6/site-packages/sqlalchemy/orm/query.py\u001b[0m in \u001b[0;36m__iter__\u001b[0;34m(self)\u001b[0m\n\u001b[1;32m   3365\u001b[0m         \u001b[0;32mif\u001b[0m \u001b[0mself\u001b[0m\u001b[0;34m.\u001b[0m\u001b[0m_autoflush\u001b[0m \u001b[0;32mand\u001b[0m \u001b[0;32mnot\u001b[0m \u001b[0mself\u001b[0m\u001b[0;34m.\u001b[0m\u001b[0m_populate_existing\u001b[0m\u001b[0;34m:\u001b[0m\u001b[0;34m\u001b[0m\u001b[0;34m\u001b[0m\u001b[0m\n\u001b[1;32m   3366\u001b[0m             \u001b[0mself\u001b[0m\u001b[0;34m.\u001b[0m\u001b[0msession\u001b[0m\u001b[0;34m.\u001b[0m\u001b[0m_autoflush\u001b[0m\u001b[0;34m(\u001b[0m\u001b[0;34m)\u001b[0m\u001b[0;34m\u001b[0m\u001b[0;34m\u001b[0m\u001b[0m\n\u001b[0;32m-> 3367\u001b[0;31m         \u001b[0;32mreturn\u001b[0m \u001b[0mself\u001b[0m\u001b[0;34m.\u001b[0m\u001b[0m_execute_and_instances\u001b[0m\u001b[0;34m(\u001b[0m\u001b[0mcontext\u001b[0m\u001b[0;34m)\u001b[0m\u001b[0;34m\u001b[0m\u001b[0;34m\u001b[0m\u001b[0m\n\u001b[0m\u001b[1;32m   3368\u001b[0m \u001b[0;34m\u001b[0m\u001b[0m\n\u001b[1;32m   3369\u001b[0m     \u001b[0;32mdef\u001b[0m \u001b[0m__str__\u001b[0m\u001b[0;34m(\u001b[0m\u001b[0mself\u001b[0m\u001b[0;34m)\u001b[0m\u001b[0;34m:\u001b[0m\u001b[0;34m\u001b[0m\u001b[0;34m\u001b[0m\u001b[0m\n",
      "\u001b[0;32m~/anaconda3/lib/python3.6/site-packages/sqlalchemy/orm/query.py\u001b[0m in \u001b[0;36m_execute_and_instances\u001b[0;34m(self, querycontext)\u001b[0m\n\u001b[1;32m   3390\u001b[0m         )\n\u001b[1;32m   3391\u001b[0m \u001b[0;34m\u001b[0m\u001b[0m\n\u001b[0;32m-> 3392\u001b[0;31m         \u001b[0mresult\u001b[0m \u001b[0;34m=\u001b[0m \u001b[0mconn\u001b[0m\u001b[0;34m.\u001b[0m\u001b[0mexecute\u001b[0m\u001b[0;34m(\u001b[0m\u001b[0mquerycontext\u001b[0m\u001b[0;34m.\u001b[0m\u001b[0mstatement\u001b[0m\u001b[0;34m,\u001b[0m \u001b[0mself\u001b[0m\u001b[0;34m.\u001b[0m\u001b[0m_params\u001b[0m\u001b[0;34m)\u001b[0m\u001b[0;34m\u001b[0m\u001b[0;34m\u001b[0m\u001b[0m\n\u001b[0m\u001b[1;32m   3393\u001b[0m         \u001b[0;32mreturn\u001b[0m \u001b[0mloading\u001b[0m\u001b[0;34m.\u001b[0m\u001b[0minstances\u001b[0m\u001b[0;34m(\u001b[0m\u001b[0mquerycontext\u001b[0m\u001b[0;34m.\u001b[0m\u001b[0mquery\u001b[0m\u001b[0;34m,\u001b[0m \u001b[0mresult\u001b[0m\u001b[0;34m,\u001b[0m \u001b[0mquerycontext\u001b[0m\u001b[0;34m)\u001b[0m\u001b[0;34m\u001b[0m\u001b[0;34m\u001b[0m\u001b[0m\n\u001b[1;32m   3394\u001b[0m \u001b[0;34m\u001b[0m\u001b[0m\n",
      "\u001b[0;32m~/anaconda3/lib/python3.6/site-packages/sqlalchemy/engine/base.py\u001b[0m in \u001b[0;36mexecute\u001b[0;34m(self, object_, *multiparams, **params)\u001b[0m\n\u001b[1;32m    980\u001b[0m             \u001b[0;32mraise\u001b[0m \u001b[0mexc\u001b[0m\u001b[0;34m.\u001b[0m\u001b[0mObjectNotExecutableError\u001b[0m\u001b[0;34m(\u001b[0m\u001b[0mobject_\u001b[0m\u001b[0;34m)\u001b[0m\u001b[0;34m\u001b[0m\u001b[0;34m\u001b[0m\u001b[0m\n\u001b[1;32m    981\u001b[0m         \u001b[0;32melse\u001b[0m\u001b[0;34m:\u001b[0m\u001b[0;34m\u001b[0m\u001b[0;34m\u001b[0m\u001b[0m\n\u001b[0;32m--> 982\u001b[0;31m             \u001b[0;32mreturn\u001b[0m \u001b[0mmeth\u001b[0m\u001b[0;34m(\u001b[0m\u001b[0mself\u001b[0m\u001b[0;34m,\u001b[0m \u001b[0mmultiparams\u001b[0m\u001b[0;34m,\u001b[0m \u001b[0mparams\u001b[0m\u001b[0;34m)\u001b[0m\u001b[0;34m\u001b[0m\u001b[0;34m\u001b[0m\u001b[0m\n\u001b[0m\u001b[1;32m    983\u001b[0m \u001b[0;34m\u001b[0m\u001b[0m\n\u001b[1;32m    984\u001b[0m     \u001b[0;32mdef\u001b[0m \u001b[0m_execute_function\u001b[0m\u001b[0;34m(\u001b[0m\u001b[0mself\u001b[0m\u001b[0;34m,\u001b[0m \u001b[0mfunc\u001b[0m\u001b[0;34m,\u001b[0m \u001b[0mmultiparams\u001b[0m\u001b[0;34m,\u001b[0m \u001b[0mparams\u001b[0m\u001b[0;34m)\u001b[0m\u001b[0;34m:\u001b[0m\u001b[0;34m\u001b[0m\u001b[0;34m\u001b[0m\u001b[0m\n",
      "\u001b[0;32m~/anaconda3/lib/python3.6/site-packages/sqlalchemy/sql/elements.py\u001b[0m in \u001b[0;36m_execute_on_connection\u001b[0;34m(self, connection, multiparams, params)\u001b[0m\n\u001b[1;32m    285\u001b[0m     \u001b[0;32mdef\u001b[0m \u001b[0m_execute_on_connection\u001b[0m\u001b[0;34m(\u001b[0m\u001b[0mself\u001b[0m\u001b[0;34m,\u001b[0m \u001b[0mconnection\u001b[0m\u001b[0;34m,\u001b[0m \u001b[0mmultiparams\u001b[0m\u001b[0;34m,\u001b[0m \u001b[0mparams\u001b[0m\u001b[0;34m)\u001b[0m\u001b[0;34m:\u001b[0m\u001b[0;34m\u001b[0m\u001b[0;34m\u001b[0m\u001b[0m\n\u001b[1;32m    286\u001b[0m         \u001b[0;32mif\u001b[0m \u001b[0mself\u001b[0m\u001b[0;34m.\u001b[0m\u001b[0msupports_execution\u001b[0m\u001b[0;34m:\u001b[0m\u001b[0;34m\u001b[0m\u001b[0;34m\u001b[0m\u001b[0m\n\u001b[0;32m--> 287\u001b[0;31m             \u001b[0;32mreturn\u001b[0m \u001b[0mconnection\u001b[0m\u001b[0;34m.\u001b[0m\u001b[0m_execute_clauseelement\u001b[0m\u001b[0;34m(\u001b[0m\u001b[0mself\u001b[0m\u001b[0;34m,\u001b[0m \u001b[0mmultiparams\u001b[0m\u001b[0;34m,\u001b[0m \u001b[0mparams\u001b[0m\u001b[0;34m)\u001b[0m\u001b[0;34m\u001b[0m\u001b[0;34m\u001b[0m\u001b[0m\n\u001b[0m\u001b[1;32m    288\u001b[0m         \u001b[0;32melse\u001b[0m\u001b[0;34m:\u001b[0m\u001b[0;34m\u001b[0m\u001b[0;34m\u001b[0m\u001b[0m\n\u001b[1;32m    289\u001b[0m             \u001b[0;32mraise\u001b[0m \u001b[0mexc\u001b[0m\u001b[0;34m.\u001b[0m\u001b[0mObjectNotExecutableError\u001b[0m\u001b[0;34m(\u001b[0m\u001b[0mself\u001b[0m\u001b[0;34m)\u001b[0m\u001b[0;34m\u001b[0m\u001b[0;34m\u001b[0m\u001b[0m\n",
      "\u001b[0;32m~/anaconda3/lib/python3.6/site-packages/sqlalchemy/engine/base.py\u001b[0m in \u001b[0;36m_execute_clauseelement\u001b[0;34m(self, elem, multiparams, params)\u001b[0m\n\u001b[1;32m   1099\u001b[0m             \u001b[0mdistilled_params\u001b[0m\u001b[0;34m,\u001b[0m\u001b[0;34m\u001b[0m\u001b[0;34m\u001b[0m\u001b[0m\n\u001b[1;32m   1100\u001b[0m             \u001b[0mcompiled_sql\u001b[0m\u001b[0;34m,\u001b[0m\u001b[0;34m\u001b[0m\u001b[0;34m\u001b[0m\u001b[0m\n\u001b[0;32m-> 1101\u001b[0;31m             \u001b[0mdistilled_params\u001b[0m\u001b[0;34m,\u001b[0m\u001b[0;34m\u001b[0m\u001b[0;34m\u001b[0m\u001b[0m\n\u001b[0m\u001b[1;32m   1102\u001b[0m         )\n\u001b[1;32m   1103\u001b[0m         \u001b[0;32mif\u001b[0m \u001b[0mself\u001b[0m\u001b[0;34m.\u001b[0m\u001b[0m_has_events\u001b[0m \u001b[0;32mor\u001b[0m \u001b[0mself\u001b[0m\u001b[0;34m.\u001b[0m\u001b[0mengine\u001b[0m\u001b[0;34m.\u001b[0m\u001b[0m_has_events\u001b[0m\u001b[0;34m:\u001b[0m\u001b[0;34m\u001b[0m\u001b[0;34m\u001b[0m\u001b[0m\n",
      "\u001b[0;32m~/anaconda3/lib/python3.6/site-packages/sqlalchemy/engine/base.py\u001b[0m in \u001b[0;36m_execute_context\u001b[0;34m(self, dialect, constructor, statement, parameters, *args)\u001b[0m\n\u001b[1;32m   1248\u001b[0m         \u001b[0;32mexcept\u001b[0m \u001b[0mBaseException\u001b[0m \u001b[0;32mas\u001b[0m \u001b[0me\u001b[0m\u001b[0;34m:\u001b[0m\u001b[0;34m\u001b[0m\u001b[0;34m\u001b[0m\u001b[0m\n\u001b[1;32m   1249\u001b[0m             self._handle_dbapi_exception(\n\u001b[0;32m-> 1250\u001b[0;31m                 \u001b[0me\u001b[0m\u001b[0;34m,\u001b[0m \u001b[0mstatement\u001b[0m\u001b[0;34m,\u001b[0m \u001b[0mparameters\u001b[0m\u001b[0;34m,\u001b[0m \u001b[0mcursor\u001b[0m\u001b[0;34m,\u001b[0m \u001b[0mcontext\u001b[0m\u001b[0;34m\u001b[0m\u001b[0;34m\u001b[0m\u001b[0m\n\u001b[0m\u001b[1;32m   1251\u001b[0m             )\n\u001b[1;32m   1252\u001b[0m \u001b[0;34m\u001b[0m\u001b[0m\n",
      "\u001b[0;32m~/anaconda3/lib/python3.6/site-packages/sqlalchemy/engine/base.py\u001b[0m in \u001b[0;36m_handle_dbapi_exception\u001b[0;34m(self, e, statement, parameters, cursor, context)\u001b[0m\n\u001b[1;32m   1476\u001b[0m                 \u001b[0mutil\u001b[0m\u001b[0;34m.\u001b[0m\u001b[0mraise_from_cause\u001b[0m\u001b[0;34m(\u001b[0m\u001b[0msqlalchemy_exception\u001b[0m\u001b[0;34m,\u001b[0m \u001b[0mexc_info\u001b[0m\u001b[0;34m)\u001b[0m\u001b[0;34m\u001b[0m\u001b[0;34m\u001b[0m\u001b[0m\n\u001b[1;32m   1477\u001b[0m             \u001b[0;32melse\u001b[0m\u001b[0;34m:\u001b[0m\u001b[0;34m\u001b[0m\u001b[0;34m\u001b[0m\u001b[0m\n\u001b[0;32m-> 1478\u001b[0;31m                 \u001b[0mutil\u001b[0m\u001b[0;34m.\u001b[0m\u001b[0mreraise\u001b[0m\u001b[0;34m(\u001b[0m\u001b[0;34m*\u001b[0m\u001b[0mexc_info\u001b[0m\u001b[0;34m)\u001b[0m\u001b[0;34m\u001b[0m\u001b[0;34m\u001b[0m\u001b[0m\n\u001b[0m\u001b[1;32m   1479\u001b[0m \u001b[0;34m\u001b[0m\u001b[0m\n\u001b[1;32m   1480\u001b[0m         \u001b[0;32mfinally\u001b[0m\u001b[0;34m:\u001b[0m\u001b[0;34m\u001b[0m\u001b[0;34m\u001b[0m\u001b[0m\n",
      "\u001b[0;32m~/anaconda3/lib/python3.6/site-packages/sqlalchemy/util/compat.py\u001b[0m in \u001b[0;36mreraise\u001b[0;34m(tp, value, tb, cause)\u001b[0m\n\u001b[1;32m    151\u001b[0m         \u001b[0;32mif\u001b[0m \u001b[0mvalue\u001b[0m\u001b[0;34m.\u001b[0m\u001b[0m__traceback__\u001b[0m \u001b[0;32mis\u001b[0m \u001b[0;32mnot\u001b[0m \u001b[0mtb\u001b[0m\u001b[0;34m:\u001b[0m\u001b[0;34m\u001b[0m\u001b[0;34m\u001b[0m\u001b[0m\n\u001b[1;32m    152\u001b[0m             \u001b[0;32mraise\u001b[0m \u001b[0mvalue\u001b[0m\u001b[0;34m.\u001b[0m\u001b[0mwith_traceback\u001b[0m\u001b[0;34m(\u001b[0m\u001b[0mtb\u001b[0m\u001b[0;34m)\u001b[0m\u001b[0;34m\u001b[0m\u001b[0;34m\u001b[0m\u001b[0m\n\u001b[0;32m--> 153\u001b[0;31m         \u001b[0;32mraise\u001b[0m \u001b[0mvalue\u001b[0m\u001b[0;34m\u001b[0m\u001b[0;34m\u001b[0m\u001b[0m\n\u001b[0m\u001b[1;32m    154\u001b[0m \u001b[0;34m\u001b[0m\u001b[0m\n\u001b[1;32m    155\u001b[0m     \u001b[0;32mdef\u001b[0m \u001b[0mu\u001b[0m\u001b[0;34m(\u001b[0m\u001b[0ms\u001b[0m\u001b[0;34m)\u001b[0m\u001b[0;34m:\u001b[0m\u001b[0;34m\u001b[0m\u001b[0;34m\u001b[0m\u001b[0m\n",
      "\u001b[0;32m~/anaconda3/lib/python3.6/site-packages/sqlalchemy/engine/base.py\u001b[0m in \u001b[0;36m_execute_context\u001b[0;34m(self, dialect, constructor, statement, parameters, *args)\u001b[0m\n\u001b[1;32m   1244\u001b[0m                 \u001b[0;32mif\u001b[0m \u001b[0;32mnot\u001b[0m \u001b[0mevt_handled\u001b[0m\u001b[0;34m:\u001b[0m\u001b[0;34m\u001b[0m\u001b[0;34m\u001b[0m\u001b[0m\n\u001b[1;32m   1245\u001b[0m                     self.dialect.do_execute(\n\u001b[0;32m-> 1246\u001b[0;31m                         \u001b[0mcursor\u001b[0m\u001b[0;34m,\u001b[0m \u001b[0mstatement\u001b[0m\u001b[0;34m,\u001b[0m \u001b[0mparameters\u001b[0m\u001b[0;34m,\u001b[0m \u001b[0mcontext\u001b[0m\u001b[0;34m\u001b[0m\u001b[0;34m\u001b[0m\u001b[0m\n\u001b[0m\u001b[1;32m   1247\u001b[0m                     )\n\u001b[1;32m   1248\u001b[0m         \u001b[0;32mexcept\u001b[0m \u001b[0mBaseException\u001b[0m \u001b[0;32mas\u001b[0m \u001b[0me\u001b[0m\u001b[0;34m:\u001b[0m\u001b[0;34m\u001b[0m\u001b[0;34m\u001b[0m\u001b[0m\n",
      "\u001b[0;32m~/anaconda3/lib/python3.6/site-packages/sqlalchemy/engine/default.py\u001b[0m in \u001b[0;36mdo_execute\u001b[0;34m(self, cursor, statement, parameters, context)\u001b[0m\n\u001b[1;32m    579\u001b[0m \u001b[0;34m\u001b[0m\u001b[0m\n\u001b[1;32m    580\u001b[0m     \u001b[0;32mdef\u001b[0m \u001b[0mdo_execute\u001b[0m\u001b[0;34m(\u001b[0m\u001b[0mself\u001b[0m\u001b[0;34m,\u001b[0m \u001b[0mcursor\u001b[0m\u001b[0;34m,\u001b[0m \u001b[0mstatement\u001b[0m\u001b[0;34m,\u001b[0m \u001b[0mparameters\u001b[0m\u001b[0;34m,\u001b[0m \u001b[0mcontext\u001b[0m\u001b[0;34m=\u001b[0m\u001b[0;32mNone\u001b[0m\u001b[0;34m)\u001b[0m\u001b[0;34m:\u001b[0m\u001b[0;34m\u001b[0m\u001b[0;34m\u001b[0m\u001b[0m\n\u001b[0;32m--> 581\u001b[0;31m         \u001b[0mcursor\u001b[0m\u001b[0;34m.\u001b[0m\u001b[0mexecute\u001b[0m\u001b[0;34m(\u001b[0m\u001b[0mstatement\u001b[0m\u001b[0;34m,\u001b[0m \u001b[0mparameters\u001b[0m\u001b[0;34m)\u001b[0m\u001b[0;34m\u001b[0m\u001b[0;34m\u001b[0m\u001b[0m\n\u001b[0m\u001b[1;32m    582\u001b[0m \u001b[0;34m\u001b[0m\u001b[0m\n\u001b[1;32m    583\u001b[0m     \u001b[0;32mdef\u001b[0m \u001b[0mdo_execute_no_params\u001b[0m\u001b[0;34m(\u001b[0m\u001b[0mself\u001b[0m\u001b[0;34m,\u001b[0m \u001b[0mcursor\u001b[0m\u001b[0;34m,\u001b[0m \u001b[0mstatement\u001b[0m\u001b[0;34m,\u001b[0m \u001b[0mcontext\u001b[0m\u001b[0;34m=\u001b[0m\u001b[0;32mNone\u001b[0m\u001b[0;34m)\u001b[0m\u001b[0;34m:\u001b[0m\u001b[0;34m\u001b[0m\u001b[0;34m\u001b[0m\u001b[0m\n",
      "\u001b[0;31mKeyboardInterrupt\u001b[0m: "
     ]
    }
   ],
   "source": [
    "data_root = \"/home/neil/hardwareswap/raw_data/\"\n",
    "pcpartpicker_gpu_dir = os.path.join(data_root, \"pcpartpicker_gpu\")\n",
    "raw_data = download_data.load_dataframe_from_disk(os.path.join(data_root, \"reddit_posts\", \"data_*-*.json\"), limit=1)\n",
    "\n",
    "print(f\"Found {len(raw_data)} posts\")\n",
    "Post.create_bulk(raw_data, s)\n",
    "Post.clean(s)"
   ]
  },
  {
   "cell_type": "code",
   "execution_count": 8,
   "metadata": {},
   "outputs": [],
   "source": [
    "s.rollback()"
   ]
  },
  {
   "cell_type": "code",
   "execution_count": 9,
   "metadata": {},
   "outputs": [],
   "source": [
    "\n",
    "pcpartpicker_gpus_fname = os.path.join(pcpartpicker_gpu_dir, \"pcpartpicker_gpu.json\")\n",
    "if os.path.isfile(pcpartpicker_gpus_fname):\n",
    "    with open(pcpartpicker_gpus_fname, 'r') as fp:\n",
    "        gpus_all = json.load(fp)"
   ]
  },
  {
   "cell_type": "code",
   "execution_count": 10,
   "metadata": {},
   "outputs": [
    {
     "data": {
      "text/plain": [
       "'/home/neil/hardwareswap/raw_data/pcpartpicker_gpu/pcpartpicker_gpu.json'"
      ]
     },
     "execution_count": 10,
     "metadata": {},
     "output_type": "execute_result"
    }
   ],
   "source": [
    "pcpartpicker_gpus_fname"
   ]
  },
  {
   "cell_type": "code",
   "execution_count": 11,
   "metadata": {},
   "outputs": [
    {
     "data": {
      "text/html": [
       "<div>\n",
       "<style scoped>\n",
       "    .dataframe tbody tr th:only-of-type {\n",
       "        vertical-align: middle;\n",
       "    }\n",
       "\n",
       "    .dataframe tbody tr th {\n",
       "        vertical-align: top;\n",
       "    }\n",
       "\n",
       "    .dataframe thead th {\n",
       "        text-align: right;\n",
       "    }\n",
       "</style>\n",
       "<table border=\"1\" class=\"dataframe\">\n",
       "  <thead>\n",
       "    <tr style=\"text-align: right;\">\n",
       "      <th></th>\n",
       "      <th>name</th>\n",
       "      <th>chipset</th>\n",
       "      <th>price</th>\n",
       "      <th>url</th>\n",
       "      <th>brand</th>\n",
       "      <th>mfg</th>\n",
       "      <th>series</th>\n",
       "      <th>prefix</th>\n",
       "      <th>number</th>\n",
       "      <th>variant</th>\n",
       "    </tr>\n",
       "  </thead>\n",
       "  <tbody>\n",
       "    <tr>\n",
       "      <th>3376</th>\n",
       "      <td>AMD 100-506061</td>\n",
       "      <td>Vega Frontier Edition</td>\n",
       "      <td>1750.00</td>\n",
       "      <td>/product/mCH48d/amd-vega-frontier-edition-air-...</td>\n",
       "      <td>amd</td>\n",
       "      <td>amd</td>\n",
       "      <td>Vega</td>\n",
       "      <td></td>\n",
       "      <td></td>\n",
       "      <td>Frontier Edition</td>\n",
       "    </tr>\n",
       "    <tr>\n",
       "      <th>4218</th>\n",
       "      <td>AMD 100-506062</td>\n",
       "      <td>Vega Frontier Edition Liquid</td>\n",
       "      <td>0</td>\n",
       "      <td>/product/8QrcCJ/amd-vega-frontier-edition-liqu...</td>\n",
       "      <td>amd</td>\n",
       "      <td>amd</td>\n",
       "      <td>Vega</td>\n",
       "      <td></td>\n",
       "      <td></td>\n",
       "      <td>Frontier Edition Liquid</td>\n",
       "    </tr>\n",
       "  </tbody>\n",
       "</table>\n",
       "</div>"
      ],
      "text/plain": [
       "                name                       chipset    price  \\\n",
       "3376  AMD 100-506061         Vega Frontier Edition  1750.00   \n",
       "4218  AMD 100-506062  Vega Frontier Edition Liquid        0   \n",
       "\n",
       "                                                    url brand  mfg series  \\\n",
       "3376  /product/mCH48d/amd-vega-frontier-edition-air-...   amd  amd   Vega   \n",
       "4218  /product/8QrcCJ/amd-vega-frontier-edition-liqu...   amd  amd   Vega   \n",
       "\n",
       "     prefix number                  variant  \n",
       "3376                       Frontier Edition  \n",
       "4218                Frontier Edition Liquid  "
      ]
     },
     "execution_count": 11,
     "metadata": {},
     "output_type": "execute_result"
    }
   ],
   "source": [
    "df = pd.DataFrame(gpus_all)\n",
    "df[\"chipset\"] = df.apply(lambda x: x[\"chipset\"].replace(\"Chipset\",\"\"), axis=1)\n",
    "df[\"brand\"] = \"\"\n",
    "df[\"mfg\"] = \"\"\n",
    "\n",
    "# set the brands\n",
    "df.at[df[\"chipset\"].str.contains(\"GeForce\"), \"brand\"] = \"nvidia\"\n",
    "df.at[df[\"chipset\"].str.contains(\"Quadro\"), \"brand\"] = \"nvidia\"\n",
    "df.at[df[\"chipset\"].str.contains(\"NVS\"), \"brand\"] = \"nvidia\"\n",
    "df.at[df[\"chipset\"].str.contains(\"RTX\"), \"brand\"] = \"nvidia\"\n",
    "df.at[df[\"chipset\"].str.contains(\"Titan\"), \"brand\"] = \"nvidia\"\n",
    "df.at[df[\"chipset\"].str.contains(\"Radeon\"), \"brand\"] = \"amd\"\n",
    "df.at[df[\"chipset\"].str.contains(\"FirePro\"), \"brand\"] = \"amd\"\n",
    "df.at[df[\"chipset\"].str.contains(\"Vega\"), \"brand\"] = \"amd\"\n",
    "df.at[df[\"chipset\"].str.contains(\"FireGL\"), \"brand\"] = \"amd\"\n",
    "\n",
    "# manufacture\n",
    "brands = [\"Sapphire\",\"Asus\",\"Gigabyte\",\"EVGA\",\"MSI\",\"PNY\",\"Zotac\", \"Lenovo\", \"GALAX\",\"Inno3D\",\"Jaton Video\",\n",
    "          \"Galaxy\",\"Sparkle\", \"ECS\",\"Palit\",\"KFA2\" ,\"OcUK\",\"Gainward\",\"XFX\",\"BFG\",\"NVIDIA\",\"HP\",\"Leadtek\",\n",
    "          \"Zogis\",\"Colorful\",\"Biostar\",\"Corsair\",\"Dell\", \"HIS\", \"PowerColor\", \"VisionTek\",\"Diamond\", \"Club 3D\", \"ASRock\", \"ATI\",\"AMD\", \"Yeston\"]\n",
    "for brand in brands:\n",
    "    df.at[df[\"name\"].str.contains(brand), \"mfg\"] = brand.lower()\n",
    "\n",
    "\n",
    "# Extract information about the gpus\n",
    "result_names=[\"series\",\"prefix\",\"number\",\"variant\"]\n",
    "for col in result_names:\n",
    "    df[col] = \"\"\n",
    "f_geforce = re.compile(\"(?P<series>(?:GeForce))?\\s?(?P<prefix>(?:GTX)|(?:RTX)|(?:GT)|(?:GTS))\\s?(?P<number>[123]?[0245679][1-9]0)\\s?(?P<variant>(?:Ti|m))?\")\n",
    "f_quadro = re.compile(\"(?P<series>(?:Quadro))?\\s?(?P<prefix>[KMP])\\s?(?P<number>[12345678][02]0{2})\\s?(?P<variant>(?:D))?\")\n",
    "f_titan = re.compile(\"(?P<series>(?:GeForce))?\\s?(?P<prefix>(?:GTX)|(?:RTX))\\s?(?P<number>(?:Titan))\\s?(?P<variant>(?:Z)|(?:X)|(?:Black))?\")\n",
    "f_radeon = re.compile(\"(?P<series>(?:Radeon Pro)|(?:Radeon))\\s?(?P<prefix>(?:RX)|(?:R[579])|(?:HD)|(?:WX))?\\s?(?P<number>(?:[34567]?[123456789][03456789][05])|(?:Fury)|(?:VEGA [56][46])|(?:Nano)|(?:VII))?\\s?(?P<variant>(?:X2)|(?:XT)|(?:X))?\")\n",
    "f_firepro = re.compile(\"(?P<series>(?:FirePro)|(?:FireGL))\\s?(?P<prefix>(?:[VWRS][G]?))?\\s?(?P<number>(?:[2345789]?[012346789][02567]0))\\s?(?P<variant>(?:A?))?\")\n",
    "f_vega = re.compile(\"(?P<series>(?:Vega))\\s?(?P<prefix>)?\\s?(?P<number>)\\s?(?P<variant>(?:Frontier Edition Liquid)|(?:Frontier Edition))\")\n",
    "\n",
    "for idx in range(len(df)):\n",
    "    chipset = df.at[idx, \"chipset\"]\n",
    "    for regex_function in [f_geforce, f_quadro, f_titan, f_radeon, f_firepro, f_vega]:\n",
    "        match = regex_function.match(chipset)\n",
    "        if match is None:\n",
    "            continue\n",
    "        series,prefix,number,variant = match.group(*result_names)\n",
    "        df.at[idx,\"series\"] = series if not None else \"\"\n",
    "        df.at[idx,\"prefix\"] = prefix if not None else \"\"\n",
    "        df.at[idx,\"number\"] = number if not None else \"\"\n",
    "        df.at[idx,\"variant\"] = variant if not None else \"\"\n",
    "        break\n",
    "\n",
    "#df[(df[\"brand\"]==\"nvidia\") & (df[\"model\"]==\"\")]\n",
    "df[(df[\"brand\"]==\"amd\" ) & (df[\"number\"]==\"\")]\n"
   ]
  },
  {
   "cell_type": "code",
   "execution_count": 12,
   "metadata": {},
   "outputs": [],
   "source": [
    "def geforce_series(row):\n",
    "    if row[\"series\"] != \"GeForce\":\n",
    "        return \"\"\n",
    "    if not row[\"number\"].isnumeric():\n",
    "        return \"\"\n",
    "    scale = 100\n",
    "    series = f\"GeForce {int(int(row['number'])/scale)}\"\n",
    "    return series\n",
    "\n",
    "def get_vendor_series(row):\n",
    "    if row[\"series\"] == \"GeForce\":\n",
    "        return geforce_series(row)\n",
    "\n",
    "df[\"Vendor Series\"] = df.apply(lambda row: geforce_series(row), axis=1)\n",
    "\n",
    "series = {}\n",
    "for item in df[\"Vendor Series\"].unique():\n",
    "    if item == \"\":\n",
    "        continue\n",
    "    elif item is None:\n",
    "        continue\n",
    "    series[item] = get_or_create(s,  Series, series=item)\n",
    "    \n",
    "mfgs = {}\n",
    "for item in df[\"mfg\"].unique():\n",
    "    if item == \"\":\n",
    "        continue\n",
    "    elif item is None:\n",
    "        continue\n",
    "    mfgs[item] = get_or_create(s,  Manufacturer, manufacturer=item)\n",
    "\n",
    "brands = {}\n",
    "for item in df[\"brand\"].unique():\n",
    "    if item == \"\":\n",
    "        continue\n",
    "    elif item is None:\n",
    "        continue\n",
    "        \n",
    "    brands[item] = get_or_create(s,  Brand, brand=item)\n",
    "    "
   ]
  },
  {
   "cell_type": "code",
   "execution_count": 13,
   "metadata": {},
   "outputs": [],
   "source": [
    "s.rollback()\n",
    "gpus = []\n",
    "for idx in range(len(df)):\n",
    "    row = df.iloc[idx]\n",
    "    price = None\n",
    "    if row[\"price\"] != \"0\":\n",
    "        price = float(row[\"price\"])\n",
    "    try:\n",
    "        gpu = GPU(\n",
    "            name = row[\"name\"],\n",
    "            brand_id = brands[row[\"brand\"]].id,\n",
    "            manufacturer_id = mfgs[row[\"mfg\"]].id,\n",
    "            series_id = series[row[\"Vendor Series\"]].id,\n",
    "            chipset = row[\"chipset\"],\n",
    "            prefix = row[\"prefix\"],\n",
    "            number = int(row[\"number\"]),\n",
    "            pcpartpicker_url = row[\"url\"],\n",
    "            pcpartpicker_price = price,       \n",
    "                )\n",
    "        gpus.append(gpu)\n",
    "    except KeyError:\n",
    "        pass\n",
    "s.bulk_save_objects(gpus)\n",
    "s.commit()\n",
    "    "
   ]
  },
  {
   "cell_type": "raw",
   "metadata": {},
   "source": [
    "post_brand = []\n",
    "\n",
    "for brand in s.query(Brand):\n",
    "    post_ids = s.query(Post.id).filter(func.lower(Post.selftext).contains(brand.brand.lower())).all()\n",
    "    post_brand += [PostBrand(post_id=post_id[0], brand_id=brand.id) for post_id in post_ids]\n",
    "    \n",
    "s.bulk_save_objects(post_brand)\n",
    "s.commit()\n",
    "\n",
    "post_mfg = []\n",
    "for mfg in s.query(Manufacturer):\n",
    "    post_ids = s.query(Post.id).filter(func.lower(Post.selftext).contains(mfg.manufacturer.lower())).all()\n",
    "    post_mfg += [PostManufacturer(post_id=post_id[0], manufacturer_id=mfg.id) for post_id in post_ids]\n",
    "    \n",
    "s.bulk_save_objects(post_mfg)\n",
    "s.commit()"
   ]
  },
  {
   "cell_type": "code",
   "execution_count": 19,
   "metadata": {},
   "outputs": [],
   "source": [
    "f_geforce = re.compile(\"(?P<series>(?:GeForce))?\\s?\"\\\n",
    "                       \"(?P<prefix>(?:GTX)|(?:RTX)|(?:GT)|(?:GTS))\\s?\"\\\n",
    "                       \"(?P<number>[123]?[0245679][1-9]0)\\s?\"\\\n",
    "                       \"(?P<variant>(?:Ti|m))?\\s?\"\\\n",
    "                       \"(?P<edition>(?:FE))?\"\\\n",
    "                       \".{0,100}?\"+ # consume as few characters as possible to the first price\n",
    "                       \"(?P<price>\\$(?:\\d{1,3},?)(?:\\d{1,3})(?:\\.\\d\\d)?)\" + # Prices must start with '$'. Max price is 999,999.99.  Does not need decimals. Can contain ',' as a thousands separator\n",
    "                       \"(?P<price_external>(?:.{0,100})(?:\\@.{0,100}))?\", # Try and determine if the detected price is coming from some external source (ie referenceing PC Part Picker)\n",
    "                      re.IGNORECASE)\n",
    "\n",
    "match_count = 0\n",
    "matching_posts = []\n",
    "for item in (\n",
    "        s.query(Post.id, Post.have, Post.selftext, Post.created_utc)\n",
    "            #.join(PostManufacturer, Post.id==PostManufacturer.post_id)\n",
    "            #.join(Manufacturer, PostManufacturer.manufacturer_id==Manufacturer.id)\n",
    "            #.filter(Manufacturer.manufacturer==\"nvidia\")\n",
    "            .filter(Post.post_type_id==2)\n",
    "            .order_by(Post.created_utc)\n",
    "            #.limit(2000)\n",
    "            .all()\n",
    "        ):\n",
    "    if item[2] is None:\n",
    "        continue\n",
    "    match_count += 1\n",
    "    matches = f_geforce.findall(item[2])\n",
    "    #print(item[1])\n",
    "    if len(matches)==0:\n",
    "        continue\n",
    "    #print(f\"Found {len(matches)} matches in\\n{item[2]}:\")\n",
    "    for m in matches:\n",
    "        matching_posts.append({\"post_id\":item[0], \"created\":item[3], \"number\":m[2], \"variant\":m[3], \"price\":float(m[5].strip(\"$\").replace(\",\",\"\")), \"price_external\":m[6]})\n",
    "        #print(f\"\\t{item[3]} {m}\")\n",
    "        \n",
    "    #print(\"-\"*50)\n",
    "    #if len(matches) == 3:\n",
    "    #    break"
   ]
  },
  {
   "cell_type": "code",
   "execution_count": null,
   "metadata": {},
   "outputs": [],
   "source": []
  },
  {
   "cell_type": "code",
   "execution_count": 20,
   "metadata": {},
   "outputs": [
    {
     "name": "stdout",
     "output_type": "stream",
     "text": [
      "12137\n"
     ]
    }
   ],
   "source": [
    "cards = pd.DataFrame(matching_posts)\n",
    "cards.sort_values(\"created\", inplace=True)\n",
    "cards.reset_index(inplace=True, drop=True)\n",
    "print(len(cards))"
   ]
  },
  {
   "cell_type": "code",
   "execution_count": null,
   "metadata": {},
   "outputs": [],
   "source": []
  },
  {
   "cell_type": "code",
   "execution_count": 21,
   "metadata": {},
   "outputs": [],
   "source": [
    "plt.rcParams[\"figure.figsize\"] = [20,10]\n",
    "matching_query = cards[(cards[\"number\"]==\"2080\") & (cards[\"variant\"]==\"Ti\") & (cards[\"price_external\"]==\"\")]\n",
    "#plt.plot(matching_query[\"created\"], matching_query[\"price\"])\n",
    "\n",
    "matching_query = cards[(cards[\"number\"]==\"2080\") & (cards[\"variant\"]==\"\") & (cards[\"price_external\"]==\"\")]\n",
    "#plt.plot(matching_query[\"created\"], matching_query[\"price\"])\n",
    "\n"
   ]
  },
  {
   "cell_type": "code",
   "execution_count": 24,
   "metadata": {},
   "outputs": [
    {
     "name": "stdout",
     "output_type": "stream",
     "text": [
      "Mean and std used: 340.66 187.86\n",
      "Mean and std new : 317.06 95.43\n"
     ]
    },
    {
     "data": {
      "text/plain": [
       "(0, 1500)"
      ]
     },
     "execution_count": 24,
     "metadata": {},
     "output_type": "execute_result"
    },
    {
     "data": {
      "image/png": "[encoded data removed]",
      "text/plain": [
       "<Figure size 1440x720 with 1 Axes>"
      ]
     },
     "metadata": {
      "needs_background": "light"
     },
     "output_type": "display_data"
    }
   ],
   "source": [
    "matching_query = cards[(cards[\"number\"]==\"1070\") & (cards[\"variant\"]==\"\") & (cards[\"price_external\"]==\"\")]\n",
    "\n",
    "std = matching_query[\"price\"].std()\n",
    "mean = matching_query[\"price\"].mean()\n",
    "price_min = mean - std\n",
    "price_max = mean + std\n",
    "\n",
    "\n",
    "matching_query_filtered = matching_query[(matching_query[\"price\"]>=price_min) & (matching_query[\"price\"]<=price_max) ]\n",
    "\n",
    "print(f\"Mean and std used: {mean:.2f} {std:.2f}\")\n",
    "print(f\"Mean and std new : {matching_query_filtered['price'].mean():.2f} { matching_query_filtered['price'].std():.2f}\")\n",
    "\n",
    "plt.plot(matching_query[\"created\"], matching_query[\"price\"])\n",
    "plt.plot(matching_query_filtered[\"created\"], matching_query_filtered[\"price\"])\n",
    "plt.ylim((0,1500))"
   ]
  },
  {
   "cell_type": "code",
   "execution_count": 50,
   "metadata": {},
   "outputs": [
    {
     "data": {
      "text/html": [
       "<div>\n",
       "<style scoped>\n",
       "    .dataframe tbody tr th:only-of-type {\n",
       "        vertical-align: middle;\n",
       "    }\n",
       "\n",
       "    .dataframe tbody tr th {\n",
       "        vertical-align: top;\n",
       "    }\n",
       "\n",
       "    .dataframe thead th {\n",
       "        text-align: right;\n",
       "    }\n",
       "</style>\n",
       "<table border=\"1\" class=\"dataframe\">\n",
       "  <thead>\n",
       "    <tr style=\"text-align: right;\">\n",
       "      <th></th>\n",
       "      <th>post_id</th>\n",
       "      <th>created</th>\n",
       "      <th>number</th>\n",
       "      <th>variant</th>\n",
       "      <th>price</th>\n",
       "      <th>price_external</th>\n",
       "    </tr>\n",
       "  </thead>\n",
       "  <tbody>\n",
       "    <tr>\n",
       "      <th>16427</th>\n",
       "      <td>ili56v</td>\n",
       "      <td>2020-09-02 23:28:47</td>\n",
       "      <td>3070</td>\n",
       "      <td></td>\n",
       "      <td>150.0</td>\n",
       "      <td></td>\n",
       "    </tr>\n",
       "    <tr>\n",
       "      <th>17183</th>\n",
       "      <td>jn4q5z</td>\n",
       "      <td>2020-11-03 05:32:33</td>\n",
       "      <td>3070</td>\n",
       "      <td></td>\n",
       "      <td>150.0</td>\n",
       "      <td></td>\n",
       "    </tr>\n",
       "    <tr>\n",
       "      <th>17592</th>\n",
       "      <td>jy33dc</td>\n",
       "      <td>2020-11-21 02:43:13</td>\n",
       "      <td>3070</td>\n",
       "      <td></td>\n",
       "      <td>190.0</td>\n",
       "      <td></td>\n",
       "    </tr>\n",
       "    <tr>\n",
       "      <th>17593</th>\n",
       "      <td>jy33dc</td>\n",
       "      <td>2020-11-21 02:43:13</td>\n",
       "      <td>3070</td>\n",
       "      <td></td>\n",
       "      <td>180.0</td>\n",
       "      <td></td>\n",
       "    </tr>\n",
       "    <tr>\n",
       "      <th>17614</th>\n",
       "      <td>jypcbl</td>\n",
       "      <td>2020-11-22 04:14:24</td>\n",
       "      <td>3070</td>\n",
       "      <td></td>\n",
       "      <td>190.0</td>\n",
       "      <td></td>\n",
       "    </tr>\n",
       "    <tr>\n",
       "      <th>17615</th>\n",
       "      <td>jypcbl</td>\n",
       "      <td>2020-11-22 04:14:24</td>\n",
       "      <td>3070</td>\n",
       "      <td></td>\n",
       "      <td>180.0</td>\n",
       "      <td></td>\n",
       "    </tr>\n",
       "    <tr>\n",
       "      <th>18370</th>\n",
       "      <td>kfselb</td>\n",
       "      <td>2020-12-18 19:58:31</td>\n",
       "      <td>3070</td>\n",
       "      <td></td>\n",
       "      <td>180.0</td>\n",
       "      <td></td>\n",
       "    </tr>\n",
       "    <tr>\n",
       "      <th>18880</th>\n",
       "      <td>kqq1fq</td>\n",
       "      <td>2021-01-05 04:00:56</td>\n",
       "      <td>3070</td>\n",
       "      <td></td>\n",
       "      <td>150.0</td>\n",
       "      <td></td>\n",
       "    </tr>\n",
       "    <tr>\n",
       "      <th>19777</th>\n",
       "      <td>lj70n9</td>\n",
       "      <td>2021-02-13 19:15:07</td>\n",
       "      <td>3070</td>\n",
       "      <td></td>\n",
       "      <td>175.0</td>\n",
       "      <td></td>\n",
       "    </tr>\n",
       "    <tr>\n",
       "      <th>21233</th>\n",
       "      <td>n9drlp</td>\n",
       "      <td>2021-05-10 19:28:19</td>\n",
       "      <td>3070</td>\n",
       "      <td></td>\n",
       "      <td>180.0</td>\n",
       "      <td></td>\n",
       "    </tr>\n",
       "    <tr>\n",
       "      <th>22297</th>\n",
       "      <td>o0gc1m</td>\n",
       "      <td>2021-06-15 14:59:05</td>\n",
       "      <td>3070</td>\n",
       "      <td></td>\n",
       "      <td>150.0</td>\n",
       "      <td></td>\n",
       "    </tr>\n",
       "    <tr>\n",
       "      <th>22810</th>\n",
       "      <td>o8n48z</td>\n",
       "      <td>2021-06-27 01:08:08</td>\n",
       "      <td>3070</td>\n",
       "      <td></td>\n",
       "      <td>150.0</td>\n",
       "      <td></td>\n",
       "    </tr>\n",
       "    <tr>\n",
       "      <th>23015</th>\n",
       "      <td>obymto</td>\n",
       "      <td>2021-07-02 00:07:39</td>\n",
       "      <td>3070</td>\n",
       "      <td></td>\n",
       "      <td>140.0</td>\n",
       "      <td></td>\n",
       "    </tr>\n",
       "    <tr>\n",
       "      <th>23215</th>\n",
       "      <td>of93jb</td>\n",
       "      <td>2021-07-07 01:45:10</td>\n",
       "      <td>3070</td>\n",
       "      <td></td>\n",
       "      <td>130.0</td>\n",
       "      <td></td>\n",
       "    </tr>\n",
       "    <tr>\n",
       "      <th>23218</th>\n",
       "      <td>of95fs</td>\n",
       "      <td>2021-07-07 01:48:26</td>\n",
       "      <td>3070</td>\n",
       "      <td></td>\n",
       "      <td>130.0</td>\n",
       "      <td></td>\n",
       "    </tr>\n",
       "    <tr>\n",
       "      <th>23436</th>\n",
       "      <td>oj5y00</td>\n",
       "      <td>2021-07-13 02:09:04</td>\n",
       "      <td>3070</td>\n",
       "      <td></td>\n",
       "      <td>165.0</td>\n",
       "      <td></td>\n",
       "    </tr>\n",
       "    <tr>\n",
       "      <th>23612</th>\n",
       "      <td>on5dpj</td>\n",
       "      <td>2021-07-19 02:54:27</td>\n",
       "      <td>3070</td>\n",
       "      <td></td>\n",
       "      <td>150.0</td>\n",
       "      <td></td>\n",
       "    </tr>\n",
       "    <tr>\n",
       "      <th>25278</th>\n",
       "      <td>pq93rr</td>\n",
       "      <td>2021-09-17 21:22:49</td>\n",
       "      <td>3070</td>\n",
       "      <td></td>\n",
       "      <td>145.0</td>\n",
       "      <td></td>\n",
       "    </tr>\n",
       "    <tr>\n",
       "      <th>25627</th>\n",
       "      <td>pzgrue</td>\n",
       "      <td>2021-10-01 20:46:56</td>\n",
       "      <td>3070</td>\n",
       "      <td></td>\n",
       "      <td>115.0</td>\n",
       "      <td></td>\n",
       "    </tr>\n",
       "  </tbody>\n",
       "</table>\n",
       "</div>"
      ],
      "text/plain": [
       "      post_id             created number variant  price price_external\n",
       "16427  ili56v 2020-09-02 23:28:47   3070          150.0               \n",
       "17183  jn4q5z 2020-11-03 05:32:33   3070          150.0               \n",
       "17592  jy33dc 2020-11-21 02:43:13   3070          190.0               \n",
       "17593  jy33dc 2020-11-21 02:43:13   3070          180.0               \n",
       "17614  jypcbl 2020-11-22 04:14:24   3070          190.0               \n",
       "17615  jypcbl 2020-11-22 04:14:24   3070          180.0               \n",
       "18370  kfselb 2020-12-18 19:58:31   3070          180.0               \n",
       "18880  kqq1fq 2021-01-05 04:00:56   3070          150.0               \n",
       "19777  lj70n9 2021-02-13 19:15:07   3070          175.0               \n",
       "21233  n9drlp 2021-05-10 19:28:19   3070          180.0               \n",
       "22297  o0gc1m 2021-06-15 14:59:05   3070          150.0               \n",
       "22810  o8n48z 2021-06-27 01:08:08   3070          150.0               \n",
       "23015  obymto 2021-07-02 00:07:39   3070          140.0               \n",
       "23215  of93jb 2021-07-07 01:45:10   3070          130.0               \n",
       "23218  of95fs 2021-07-07 01:48:26   3070          130.0               \n",
       "23436  oj5y00 2021-07-13 02:09:04   3070          165.0               \n",
       "23612  on5dpj 2021-07-19 02:54:27   3070          150.0               \n",
       "25278  pq93rr 2021-09-17 21:22:49   3070          145.0               \n",
       "25627  pzgrue 2021-10-01 20:46:56   3070          115.0               "
      ]
     },
     "execution_count": 50,
     "metadata": {},
     "output_type": "execute_result"
    }
   ],
   "source": [
    "matching_query[(matching_query[\"price\"]>100) & (matching_query[\"price\"]<200) ]# & (matching_query[\"created\"]>datetime.datetime(year=2019, month=7, day=1))]"
   ]
  },
  {
   "cell_type": "code",
   "execution_count": 51,
   "metadata": {},
   "outputs": [
    {
     "name": "stdout",
     "output_type": "stream",
     "text": [
      " \n",
      "\n",
      "This is a repost since I have one slight change with the info.\n",
      "\n",
      "Looking to trade an RTX 3080 FE (Used approximately 3 weeks **and 1 day now**) for one of the following RTX 3070 + cash only\n",
      "\n",
      "EVGA RTX 3070 XC3 Black + $190 cash\n",
      "\n",
      "ASUS RTX 3070 TUF + $180 cash\n",
      "\n",
      "RTX 3070 FE + $220 cash\n",
      "\n",
      "**Other 3070 card that does not reach $560 MAY also work but the above are the preferable one**\n",
      "\n",
      "Will not accept any 3070 above 560$, so don't have to come with those FTW3 or anything, my friend won't want them, period.\n",
      "\n",
      "**MAY because I will be looking to trade a 3070 for my friend and not myself** \n",
      "\n",
      "**Both COD and WL are redeemed on this GPU so this 3080 FE won't be able to redeem any pre-order games**\n",
      "\n",
      "**Still comes with 1 year GeForce** \n",
      "\n",
      "**ZIP is 60616 in the Chicago area, will not do shipping (sorry) even if offer $1000+ since I been hard scam b4**\n",
      "\n",
      "**Thanks. reply here b4 pm me**\n",
      "\n",
      "Timestamp: [https://imgur.com/a/6SESAse](https://imgur.com/a/6SESAse)\n"
     ]
    }
   ],
   "source": [
    "print(s.query(Post).get(\"jypcbl\").selftext)"
   ]
  },
  {
   "cell_type": "code",
   "execution_count": 20,
   "metadata": {},
   "outputs": [
    {
     "data": {
      "text/html": [
       "<div>\n",
       "<style scoped>\n",
       "    .dataframe tbody tr th:only-of-type {\n",
       "        vertical-align: middle;\n",
       "    }\n",
       "\n",
       "    .dataframe tbody tr th {\n",
       "        vertical-align: top;\n",
       "    }\n",
       "\n",
       "    .dataframe thead th {\n",
       "        text-align: right;\n",
       "    }\n",
       "</style>\n",
       "<table border=\"1\" class=\"dataframe\">\n",
       "  <thead>\n",
       "    <tr style=\"text-align: right;\">\n",
       "      <th></th>\n",
       "      <th>post_id</th>\n",
       "      <th>created</th>\n",
       "      <th>number</th>\n",
       "      <th>variant</th>\n",
       "      <th>price</th>\n",
       "      <th>price_external</th>\n",
       "    </tr>\n",
       "  </thead>\n",
       "  <tbody>\n",
       "  </tbody>\n",
       "</table>\n",
       "</div>"
      ],
      "text/plain": [
       "Empty DataFrame\n",
       "Columns: [post_id, created, number, variant, price, price_external]\n",
       "Index: []"
      ]
     },
     "execution_count": 20,
     "metadata": {},
     "output_type": "execute_result"
    }
   ],
   "source": [
    "matching_query[matching_query[\"post_id\"]==\"dcyhwu\"]"
   ]
  },
  {
   "cell_type": "code",
   "execution_count": null,
   "metadata": {},
   "outputs": [],
   "source": []
  },
  {
   "cell_type": "code",
   "execution_count": null,
   "metadata": {},
   "outputs": [],
   "source": []
  },
  {
   "cell_type": "code",
   "execution_count": null,
   "metadata": {},
   "outputs": [],
   "source": []
  }
 ],
 "metadata": {
  "kernelspec": {
   "display_name": "Python 3",
   "language": "python",
   "name": "python3"
  },
  "language_info": {
   "codemirror_mode": {
    "name": "ipython",
    "version": 3
   },
   "file_extension": ".py",
   "mimetype": "text/x-python",
   "name": "python",
   "nbconvert_exporter": "python",
   "pygments_lexer": "ipython3",
   "version": "3.6.9"
  }
 },
 "nbformat": 4,
 "nbformat_minor": 4
}
