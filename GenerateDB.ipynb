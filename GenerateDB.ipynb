{
 "cells": [
  {
   "cell_type": "code",
   "execution_count": null,
   "metadata": {},
   "outputs": [],
   "source": [
    "from sqlalchemy import or_, func\n",
    "from sqlalchemy.orm import sessionmaker\n",
    "from HardwareSwap.Models import Base, engine, Post, PostType, get_or_create, Series, Manufacturer, Brand, GPU, PostBrand, PostManufacturer\n",
    "import tqdm"
   ]
  },
  {
   "cell_type": "code",
   "execution_count": null,
   "metadata": {},
   "outputs": [],
   "source": [
    "recreate = True\n",
    "if recreate:\n",
    "    Base.metadata.drop_all(engine)\n",
    "Base.metadata.create_all(engine)\n",
    "Session = sessionmaker(bind = engine)"
   ]
  },
  {
   "cell_type": "code",
   "execution_count": null,
   "metadata": {},
   "outputs": [],
   "source": [
    "s = Session()\n",
    "buying = get_or_create(s, PostType, post_type=\"buying\")\n",
    "selling = get_or_create(s, PostType, post_type=\"selling\")\n",
    "trading = get_or_create(s, PostType, post_type=\"trading\")\n",
    "giveaway = get_or_create(s, PostType, post_type=\"giveaway\")\n",
    "meta = get_or_create(s, PostType, post_type=\"meta\")\n",
    "official = get_or_create(s, PostType, post_type=\"official\")\n",
    "alert = get_or_create(s, PostType, post_type=\"alert\")\n"
   ]
  },
  {
   "cell_type": "code",
   "execution_count": null,
   "metadata": {},
   "outputs": [],
   "source": [
    "%load_ext autoreload\n",
    "%autoreload 1\n",
    "%aimport HardwareSwap\n",
    "%aimport HardwareSwap.DownloadData\n",
    "%aimport HardwareSwap.DownloadData.download_data\n",
    "from HardwareSwap.DownloadData import download_data, remove_duplicate_rows\n",
    "import os\n",
    "import datetime\n",
    "import pytz\n",
    "import pandas as pd\n",
    "from HardwareSwap.Models.Post import get_regex_to_parse_title\n",
    "import re\n",
    "import json"
   ]
  },
  {
   "cell_type": "code",
   "execution_count": null,
   "metadata": {},
   "outputs": [],
   "source": []
  },
  {
   "cell_type": "code",
   "execution_count": null,
   "metadata": {},
   "outputs": [],
   "source": [
    "data_root = \"/home/neil/hardwareswap/raw_data/\"\n",
    "pcpartpicker_gpu_dir = os.path.join(data_root, \"pcpartpicker_gpu\")\n",
    "raw_data = download_data.load_dataframe_from_disk(os.path.join(data_root, \"reddit_posts\", \"data_*-*.json\"), limit=5000)\n",
    "\n",
    "print(f\"Found {len(raw_data)} posts\")\n",
    "Post.create_bulk(raw_data, s)\n",
    "Post.clean(s)"
   ]
  },
  {
   "cell_type": "code",
   "execution_count": null,
   "metadata": {},
   "outputs": [],
   "source": [
    "s.rollback()"
   ]
  },
  {
   "cell_type": "code",
   "execution_count": null,
   "metadata": {},
   "outputs": [],
   "source": [
    "\n",
    "pcpartpicker_gpus_fname = os.path.join(pcpartpicker_gpu_dir, \"pcpartpicker_gpu.json\")\n",
    "if os.path.isfile(pcpartpicker_gpus_fname):\n",
    "    with open(pcpartpicker_gpus_fname, 'r') as fp:\n",
    "        gpus_all = json.load(fp)"
   ]
  },
  {
   "cell_type": "code",
   "execution_count": null,
   "metadata": {},
   "outputs": [],
   "source": [
    "pcpartpicker_gpus_fname"
   ]
  },
  {
   "cell_type": "code",
   "execution_count": null,
   "metadata": {},
   "outputs": [],
   "source": [
    "df = pd.DataFrame(gpus_all)\n",
    "df[\"chipset\"] = df.apply(lambda x: x[\"chipset\"].replace(\"Chipset\",\"\"), axis=1)\n",
    "df[\"brand\"] = \"\"\n",
    "df[\"mfg\"] = \"\"\n",
    "\n",
    "# set the brands\n",
    "df.at[df[\"chipset\"].str.contains(\"GeForce\"), \"brand\"] = \"nvidia\"\n",
    "df.at[df[\"chipset\"].str.contains(\"Quadro\"), \"brand\"] = \"nvidia\"\n",
    "df.at[df[\"chipset\"].str.contains(\"NVS\"), \"brand\"] = \"nvidia\"\n",
    "df.at[df[\"chipset\"].str.contains(\"RTX\"), \"brand\"] = \"nvidia\"\n",
    "df.at[df[\"chipset\"].str.contains(\"Titan\"), \"brand\"] = \"nvidia\"\n",
    "df.at[df[\"chipset\"].str.contains(\"Radeon\"), \"brand\"] = \"amd\"\n",
    "df.at[df[\"chipset\"].str.contains(\"FirePro\"), \"brand\"] = \"amd\"\n",
    "df.at[df[\"chipset\"].str.contains(\"Vega\"), \"brand\"] = \"amd\"\n",
    "df.at[df[\"chipset\"].str.contains(\"FireGL\"), \"brand\"] = \"amd\"\n",
    "\n",
    "# manufacture\n",
    "brands = [\"Sapphire\",\"Asus\",\"Gigabyte\",\"EVGA\",\"MSI\",\"PNY\",\"Zotac\", \"Lenovo\", \"GALAX\",\"Inno3D\",\"Jaton Video\",\n",
    "          \"Galaxy\",\"Sparkle\", \"ECS\",\"Palit\",\"KFA2\" ,\"OcUK\",\"Gainward\",\"XFX\",\"BFG\",\"NVIDIA\",\"HP\",\"Leadtek\",\n",
    "          \"Zogis\",\"Colorful\",\"Biostar\",\"Corsair\",\"Dell\", \"HIS\", \"PowerColor\", \"VisionTek\",\"Diamond\", \"Club 3D\", \"ASRock\", \"ATI\",\"AMD\", \"Yeston\"]\n",
    "for brand in brands:\n",
    "    df.at[df[\"name\"].str.contains(brand), \"mfg\"] = brand.lower()\n",
    "\n",
    "\n",
    "# Extract information about the gpus\n",
    "result_names=[\"series\",\"prefix\",\"number\",\"variant\"]\n",
    "for col in result_names:\n",
    "    df[col] = \"\"\n",
    "f_geforce = re.compile(\"(?P<series>(?:GeForce))?\\s?(?P<prefix>(?:GTX)|(?:RTX)|(?:GT)|(?:GTS))\\s?(?P<number>[123]?[0245679][1-9]0)\\s?(?P<variant>(?:Ti))?\")\n",
    "f_quadro = re.compile(\"(?P<series>(?:Quadro))?\\s?(?P<prefix>[KMP])\\s?(?P<number>[12345678][02]0{2})\\s?(?P<variant>(?:D))?\")\n",
    "f_titan = re.compile(\"(?P<series>(?:GeForce))?\\s?(?P<prefix>(?:GTX)|(?:RTX))\\s?(?P<number>(?:Titan))\\s?(?P<variant>(?:Z)|(?:X)|(?:Black))?\")\n",
    "f_radeon = re.compile(\"(?P<series>(?:Radeon Pro)|(?:Radeon))\\s?(?P<prefix>(?:RX)|(?:R[579])|(?:HD)|(?:WX))?\\s?(?P<number>(?:[34567]?[123456789][03456789][05])|(?:Fury)|(?:VEGA [56][46])|(?:Nano)|(?:VII))?\\s?(?P<variant>(?:X2)|(?:XT)|(?:X))?\")\n",
    "f_firepro = re.compile(\"(?P<series>(?:FirePro)|(?:FireGL))\\s?(?P<prefix>(?:[VWRS][G]?))?\\s?(?P<number>(?:[2345789]?[012346789][02567]0))\\s?(?P<variant>(?:A?))?\")\n",
    "f_vega = re.compile(\"(?P<series>(?:Vega))\\s?(?P<prefix>)?\\s?(?P<number>)\\s?(?P<variant>(?:Frontier Edition Liquid)|(?:Frontier Edition))\")\n",
    "\n",
    "for idx in range(len(df)):\n",
    "    chipset = df.at[idx, \"chipset\"]\n",
    "    for regex_function in [f_geforce, f_quadro, f_titan, f_radeon, f_firepro, f_vega]:\n",
    "        match = regex_function.match(chipset)\n",
    "        if match is None:\n",
    "            continue\n",
    "        series,prefix,number,variant = match.group(*result_names)\n",
    "        df.at[idx,\"series\"] = series if not None else \"\"\n",
    "        df.at[idx,\"prefix\"] = prefix if not None else \"\"\n",
    "        df.at[idx,\"number\"] = number if not None else \"\"\n",
    "        df.at[idx,\"variant\"] = variant if not None else \"\"\n",
    "        break\n",
    "\n",
    "#df[(df[\"brand\"]==\"nvidia\") & (df[\"model\"]==\"\")]\n",
    "df[(df[\"brand\"]==\"amd\" ) & (df[\"number\"]==\"\")]\n"
   ]
  },
  {
   "cell_type": "code",
   "execution_count": null,
   "metadata": {},
   "outputs": [],
   "source": [
    "def geforce_series(row):\n",
    "    if row[\"series\"] != \"GeForce\":\n",
    "        return \"\"\n",
    "    if not row[\"number\"].isnumeric():\n",
    "        return \"\"\n",
    "    scale = 100\n",
    "    series = f\"GeForce {int(int(row['number'])/scale)}\"\n",
    "    return series\n",
    "\n",
    "def get_vendor_series(row):\n",
    "    if row[\"series\"] == \"GeForce\":\n",
    "        return geforce_series(row)\n",
    "\n",
    "df[\"Vendor Series\"] = df.apply(lambda row: geforce_series(row), axis=1)\n",
    "\n",
    "series = {}\n",
    "for item in df[\"Vendor Series\"].unique():\n",
    "    if item == \"\":\n",
    "        continue\n",
    "    elif item is None:\n",
    "        continue\n",
    "    series[item] = get_or_create(s,  Series, series=item)\n",
    "    \n",
    "mfgs = {}\n",
    "for item in df[\"mfg\"].unique():\n",
    "    if item == \"\":\n",
    "        continue\n",
    "    elif item is None:\n",
    "        continue\n",
    "    mfgs[item] = get_or_create(s,  Manufacturer, manufacturer=item)\n",
    "\n",
    "brands = {}\n",
    "for item in df[\"brand\"].unique():\n",
    "    if item == \"\":\n",
    "        continue\n",
    "    elif item is None:\n",
    "        continue\n",
    "        \n",
    "    brands[item] = get_or_create(s,  Brand, brand=item)\n",
    "    "
   ]
  },
  {
   "cell_type": "code",
   "execution_count": null,
   "metadata": {},
   "outputs": [],
   "source": [
    "s.rollback()\n",
    "gpus = []\n",
    "for idx in range(len(df)):\n",
    "    row = df.iloc[idx]\n",
    "    price = None\n",
    "    if row[\"price\"] != \"0\":\n",
    "        price = float(row[\"price\"])\n",
    "    try:\n",
    "        gpu = GPU(\n",
    "            name = row[\"name\"],\n",
    "            brand_id = brands[row[\"brand\"]].id,\n",
    "            manufacturer_id = mfgs[row[\"mfg\"]].id,\n",
    "            series_id = series[row[\"Vendor Series\"]].id,\n",
    "            chipset = row[\"chipset\"],\n",
    "            prefix = row[\"prefix\"],\n",
    "            number = int(row[\"number\"]),\n",
    "            pcpartpicker_url = row[\"url\"],\n",
    "            pcpartpicker_price = price,       \n",
    "                )\n",
    "        gpus.append(gpu)\n",
    "    except KeyError:\n",
    "        pass\n",
    "s.bulk_save_objects(gpus)\n",
    "s.commit()\n",
    "    "
   ]
  },
  {
   "cell_type": "code",
   "execution_count": null,
   "metadata": {},
   "outputs": [],
   "source": [
    "s.rollback()"
   ]
  },
  {
   "cell_type": "code",
   "execution_count": null,
   "metadata": {},
   "outputs": [],
   "source": [
    "post_brand = []\n",
    "\n",
    "for brand in s.query(Brand):\n",
    "    post_ids = s.query(Post.id).filter(func.lower(Post.selftext).contains(brand.brand.lower())).all()\n",
    "    post_brand += [PostBrand(post_id=post_id[0], brand_id=brand.id) for post_id in post_ids]\n",
    "    \n",
    "s.bulk_save_objects(post_brand)\n",
    "s.commit()"
   ]
  },
  {
   "cell_type": "code",
   "execution_count": null,
   "metadata": {},
   "outputs": [],
   "source": [
    "post_mfg = []\n",
    "for mfg in s.query(Manufacturer):\n",
    "    post_ids = s.query(Post.id).filter(func.lower(Post.selftext).contains(mfg.manufacturer.lower())).all()\n",
    "    post_mfg += [PostManufacturer(post_id=post_id[0], manufacturer_id=mfg.id) for post_id in post_ids]\n",
    "    \n",
    "s.bulk_save_objects(post_mfg)\n",
    "s.commit()"
   ]
  },
  {
   "cell_type": "code",
   "execution_count": null,
   "metadata": {},
   "outputs": [],
   "source": [
    "\n",
    "for items in s.query(Manufacturer.manufacturer, Post.title, Post.selftext).join(PostManufacturer, Post.id==PostManufacturer.post_id).join(Manufacturer, PostManufacturer.manufacturer_id==Manufacturer.id).filter(Manufacturer.manufacturer==\"nvidia\").limit(20).all():\n",
    "    print()\n",
    "    print(items)"
   ]
  },
  {
   "cell_type": "code",
   "execution_count": null,
   "metadata": {},
   "outputs": [],
   "source": [
    "s.query(PostBrand.id).join(Brand, Brand.id==PostBrand.brand_id).filter(Brand.brand==\"nvidia\").count()"
   ]
  },
  {
   "cell_type": "code",
   "execution_count": null,
   "metadata": {},
   "outputs": [],
   "source": []
  },
  {
   "cell_type": "code",
   "execution_count": null,
   "metadata": {},
   "outputs": [],
   "source": [
    "import matplotlib.pyplot as plt\n",
    "import re"
   ]
  },
  {
   "cell_type": "code",
   "execution_count": null,
   "metadata": {},
   "outputs": [],
   "source": [
    "with open(\"/usr/share/dict/words\",'r') as fp:\n",
    "    words = fp.readlines()\n",
    "words = [word.strip().lower() for word in words]\n",
    "words = set(words)"
   ]
  },
  {
   "cell_type": "code",
   "execution_count": null,
   "metadata": {},
   "outputs": [],
   "source": [
    "all_text = set()\n",
    "counts = []\n",
    "for idx, text in enumerate(s.query(func.lower(Post.selftext)).filter(Post.selftext!=None).all()):\n",
    "    text = text[0]\n",
    "    text = text.lower()\n",
    "    text = re.sub('[^a-zA-Z0-9]', ' ', text)\n",
    "    text = [item for item in text.split() if item.isalpha()]\n",
    "    text = set(text)\n",
    "    text = text.intersection(words)\n",
    "    \n",
    "    all_text.update(text)\n",
    "    counts.append(len(all_text))\n",
    "plt.plot(counts)\n",
    "len(all_text)"
   ]
  },
  {
   "cell_type": "code",
   "execution_count": null,
   "metadata": {},
   "outputs": [],
   "source": [
    "sorted(list(all_text))"
   ]
  },
  {
   "cell_type": "code",
   "execution_count": null,
   "metadata": {},
   "outputs": [],
   "source": [
    "intersection = all_text.intersection(words)\n",
    "print(f\"Have {len(all_text)} words in posts, and {len(words)} words in dict\")\n",
    "print(f\"Have {len(intersection)}\")\n"
   ]
  },
  {
   "cell_type": "code",
   "execution_count": null,
   "metadata": {},
   "outputs": [],
   "source": []
  }
 ],
 "metadata": {
  "kernelspec": {
   "display_name": "Python 3",
   "language": "python",
   "name": "python3"
  },
  "language_info": {
   "codemirror_mode": {
    "name": "ipython",
    "version": 3
   },
   "file_extension": ".py",
   "mimetype": "text/x-python",
   "name": "python",
   "nbconvert_exporter": "python",
   "pygments_lexer": "ipython3",
   "version": "3.6.9"
  }
 },
 "nbformat": 4,
 "nbformat_minor": 4
}
