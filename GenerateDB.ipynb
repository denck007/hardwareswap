{
 "cells": [
  {
   "cell_type": "code",
   "execution_count": 1,
   "metadata": {},
   "outputs": [],
   "source": [
    "from sqlalchemy import or_, func\n",
    "from sqlalchemy.orm import sessionmaker\n",
    "from HardwareSwap.Models import Base, engine, Post, PostType, get_or_create, Series, Manufacturer, Brand, GPU, PostBrand, PostManufacturer, Item, ItemType\n",
    "import tqdm"
   ]
  },
  {
   "cell_type": "code",
   "execution_count": 2,
   "metadata": {},
   "outputs": [],
   "source": [
    "recreate = False\n",
    "if recreate:\n",
    "    Base.metadata.drop_all(engine)\n",
    "Base.metadata.create_all(engine)\n",
    "Session = sessionmaker(bind = engine)"
   ]
  },
  {
   "cell_type": "code",
   "execution_count": 3,
   "metadata": {},
   "outputs": [],
   "source": [
    "s = Session()\n",
    "buying = get_or_create(s, PostType, post_type=\"buying\")\n",
    "selling = get_or_create(s, PostType, post_type=\"selling\")\n",
    "trading = get_or_create(s, PostType, post_type=\"trading\")\n",
    "giveaway = get_or_create(s, PostType, post_type=\"giveaway\")\n",
    "meta = get_or_create(s, PostType, post_type=\"meta\")\n",
    "official = get_or_create(s, PostType, post_type=\"official\")\n",
    "alert = get_or_create(s, PostType, post_type=\"alert\")"
   ]
  },
  {
   "cell_type": "code",
   "execution_count": 4,
   "metadata": {},
   "outputs": [],
   "source": [
    "%load_ext autoreload\n",
    "%autoreload 1\n",
    "%aimport HardwareSwap\n",
    "%aimport HardwareSwap.DownloadData\n",
    "%aimport HardwareSwap.DownloadData.download_data\n",
    "from HardwareSwap.DownloadData import download_data, remove_duplicate_rows\n",
    "import os\n",
    "import datetime\n",
    "import pytz\n",
    "import pandas as pd\n",
    "from HardwareSwap.Models.Post import get_regex_to_parse_title\n",
    "import re\n",
    "import json\n",
    "import matplotlib.pyplot as plt"
   ]
  },
  {
   "cell_type": "code",
   "execution_count": null,
   "metadata": {},
   "outputs": [],
   "source": []
  },
  {
   "cell_type": "code",
   "execution_count": 22,
   "metadata": {},
   "outputs": [
    {
     "name": "stdout",
     "output_type": "stream",
     "text": [
      "Found 99697 posts\n"
     ]
    },
    {
     "name": "stderr",
     "output_type": "stream",
     "text": [
      "100%|██████████| 89680/89680 [00:45<00:00, 1986.37it/s]\n"
     ]
    },
    {
     "name": "stdout",
     "output_type": "stream",
     "text": [
      "Inserting 89680 items... Done!\n"
     ]
    }
   ],
   "source": [
    "data_root = \"/home/neil/hardwareswap/raw_data/\"\n",
    "pcpartpicker_gpu_dir = os.path.join(data_root, \"pcpartpicker_gpu\")\n",
    "raw_data = download_data.load_dataframe_from_disk(os.path.join(data_root, \"reddit_posts\", \"data_*-*.json\"), limit=1000)\n",
    "\n",
    "print(f\"Found {len(raw_data)} posts\")\n",
    "Post.create_bulk(raw_data, s)\n",
    "Post.clean(s)"
   ]
  },
  {
   "cell_type": "code",
   "execution_count": 23,
   "metadata": {},
   "outputs": [],
   "source": [
    "\n",
    "pcpartpicker_gpus_fname = os.path.join(pcpartpicker_gpu_dir, \"pcpartpicker_gpu.json\")\n",
    "if os.path.isfile(pcpartpicker_gpus_fname):\n",
    "    with open(pcpartpicker_gpus_fname, 'r') as fp:\n",
    "        gpus_all = json.load(fp)"
   ]
  },
  {
   "cell_type": "code",
   "execution_count": 24,
   "metadata": {},
   "outputs": [
    {
     "data": {
      "text/html": [
       "<div>\n",
       "<style scoped>\n",
       "    .dataframe tbody tr th:only-of-type {\n",
       "        vertical-align: middle;\n",
       "    }\n",
       "\n",
       "    .dataframe tbody tr th {\n",
       "        vertical-align: top;\n",
       "    }\n",
       "\n",
       "    .dataframe thead th {\n",
       "        text-align: right;\n",
       "    }\n",
       "</style>\n",
       "<table border=\"1\" class=\"dataframe\">\n",
       "  <thead>\n",
       "    <tr style=\"text-align: right;\">\n",
       "      <th></th>\n",
       "      <th>name</th>\n",
       "      <th>chipset</th>\n",
       "      <th>price</th>\n",
       "      <th>url</th>\n",
       "      <th>brand</th>\n",
       "      <th>mfg</th>\n",
       "      <th>series</th>\n",
       "      <th>prefix</th>\n",
       "      <th>number</th>\n",
       "      <th>variant</th>\n",
       "    </tr>\n",
       "  </thead>\n",
       "  <tbody>\n",
       "    <tr>\n",
       "      <th>3376</th>\n",
       "      <td>AMD 100-506061</td>\n",
       "      <td>Vega Frontier Edition</td>\n",
       "      <td>1750.00</td>\n",
       "      <td>/product/mCH48d/amd-vega-frontier-edition-air-...</td>\n",
       "      <td>amd</td>\n",
       "      <td>amd</td>\n",
       "      <td>Vega</td>\n",
       "      <td></td>\n",
       "      <td></td>\n",
       "      <td>Frontier Edition</td>\n",
       "    </tr>\n",
       "    <tr>\n",
       "      <th>4218</th>\n",
       "      <td>AMD 100-506062</td>\n",
       "      <td>Vega Frontier Edition Liquid</td>\n",
       "      <td>0</td>\n",
       "      <td>/product/8QrcCJ/amd-vega-frontier-edition-liqu...</td>\n",
       "      <td>amd</td>\n",
       "      <td>amd</td>\n",
       "      <td>Vega</td>\n",
       "      <td></td>\n",
       "      <td></td>\n",
       "      <td>Frontier Edition Liquid</td>\n",
       "    </tr>\n",
       "  </tbody>\n",
       "</table>\n",
       "</div>"
      ],
      "text/plain": [
       "                name                       chipset    price  \\\n",
       "3376  AMD 100-506061         Vega Frontier Edition  1750.00   \n",
       "4218  AMD 100-506062  Vega Frontier Edition Liquid        0   \n",
       "\n",
       "                                                    url brand  mfg series  \\\n",
       "3376  /product/mCH48d/amd-vega-frontier-edition-air-...   amd  amd   Vega   \n",
       "4218  /product/8QrcCJ/amd-vega-frontier-edition-liqu...   amd  amd   Vega   \n",
       "\n",
       "     prefix number                  variant  \n",
       "3376                       Frontier Edition  \n",
       "4218                Frontier Edition Liquid  "
      ]
     },
     "execution_count": 24,
     "metadata": {},
     "output_type": "execute_result"
    }
   ],
   "source": [
    "df = pd.DataFrame(gpus_all)\n",
    "df[\"chipset\"] = df.apply(lambda x: x[\"chipset\"].replace(\"Chipset\",\"\"), axis=1)\n",
    "df[\"brand\"] = \"\"\n",
    "df[\"mfg\"] = \"\"\n",
    "\n",
    "# set the brands\n",
    "df.at[df[\"chipset\"].str.contains(\"GeForce\"), \"brand\"] = \"nvidia\"\n",
    "df.at[df[\"chipset\"].str.contains(\"Quadro\"), \"brand\"] = \"nvidia\"\n",
    "df.at[df[\"chipset\"].str.contains(\"NVS\"), \"brand\"] = \"nvidia\"\n",
    "df.at[df[\"chipset\"].str.contains(\"RTX\"), \"brand\"] = \"nvidia\"\n",
    "df.at[df[\"chipset\"].str.contains(\"Titan\"), \"brand\"] = \"nvidia\"\n",
    "df.at[df[\"chipset\"].str.contains(\"Radeon\"), \"brand\"] = \"amd\"\n",
    "df.at[df[\"chipset\"].str.contains(\"FirePro\"), \"brand\"] = \"amd\"\n",
    "df.at[df[\"chipset\"].str.contains(\"Vega\"), \"brand\"] = \"amd\"\n",
    "df.at[df[\"chipset\"].str.contains(\"FireGL\"), \"brand\"] = \"amd\"\n",
    "\n",
    "# manufacture\n",
    "brands = [\"Sapphire\",\"Asus\",\"Gigabyte\",\"EVGA\",\"MSI\",\"PNY\",\"Zotac\", \"Lenovo\", \"GALAX\",\"Inno3D\",\"Jaton Video\",\n",
    "          \"Galaxy\",\"Sparkle\", \"ECS\",\"Palit\",\"KFA2\" ,\"OcUK\",\"Gainward\",\"XFX\",\"BFG\",\"NVIDIA\",\"HP\",\"Leadtek\",\n",
    "          \"Zogis\",\"Colorful\",\"Biostar\",\"Corsair\",\"Dell\", \"HIS\", \"PowerColor\", \"VisionTek\",\"Diamond\", \"Club 3D\", \"ASRock\", \"ATI\",\"AMD\", \"Yeston\"]\n",
    "for brand in brands:\n",
    "    df.at[df[\"name\"].str.contains(brand), \"mfg\"] = brand.lower()\n",
    "\n",
    "\n",
    "# Extract information about the gpus\n",
    "result_names=[\"series\",\"prefix\",\"number\",\"variant\"]\n",
    "for col in result_names:\n",
    "    df[col] = \"\"\n",
    "f_geforce = re.compile(\"(?P<series>(?:GeForce))?\\s?(?P<prefix>(?:GTX)|(?:RTX)|(?:GT)|(?:GTS))\\s?(?P<number>[123]?[0245679][1-9]0)\\s?(?P<variant>(?:Ti|m))?\")\n",
    "f_quadro = re.compile(\"(?P<series>(?:Quadro))?\\s?(?P<prefix>[KMP])\\s?(?P<number>[12345678][02]0{2})\\s?(?P<variant>(?:D))?\")\n",
    "f_titan = re.compile(\"(?P<series>(?:GeForce))?\\s?(?P<prefix>(?:GTX)|(?:RTX))\\s?(?P<number>(?:Titan))\\s?(?P<variant>(?:Z)|(?:X)|(?:Black))?\")\n",
    "f_radeon = re.compile(\"(?P<series>(?:Radeon Pro)|(?:Radeon))\\s?(?P<prefix>(?:RX)|(?:R[579])|(?:HD)|(?:WX))?\\s?(?P<number>(?:[34567]?[123456789][03456789][05])|(?:Fury)|(?:VEGA [56][46])|(?:Nano)|(?:VII))?\\s?(?P<variant>(?:X2)|(?:XT)|(?:X))?\")\n",
    "f_firepro = re.compile(\"(?P<series>(?:FirePro)|(?:FireGL))\\s?(?P<prefix>(?:[VWRS][G]?))?\\s?(?P<number>(?:[2345789]?[012346789][02567]0))\\s?(?P<variant>(?:A?))?\")\n",
    "f_vega = re.compile(\"(?P<series>(?:Vega))\\s?(?P<prefix>)?\\s?(?P<number>)\\s?(?P<variant>(?:Frontier Edition Liquid)|(?:Frontier Edition))\")\n",
    "\n",
    "for idx in range(len(df)):\n",
    "    chipset = df.at[idx, \"chipset\"]\n",
    "    for regex_function in [f_geforce, f_quadro, f_titan, f_radeon, f_firepro, f_vega]:\n",
    "        match = regex_function.match(chipset)\n",
    "        if match is None:\n",
    "            continue\n",
    "        series,prefix,number,variant = match.group(*result_names)\n",
    "        df.at[idx,\"series\"] = series if not None else \"\"\n",
    "        df.at[idx,\"prefix\"] = prefix if not None else \"\"\n",
    "        df.at[idx,\"number\"] = number if not None else \"\"\n",
    "        df.at[idx,\"variant\"] = variant if not None else \"\"\n",
    "        break\n",
    "\n",
    "#df[(df[\"brand\"]==\"nvidia\") & (df[\"model\"]==\"\")]\n",
    "df[(df[\"brand\"]==\"amd\" ) & (df[\"number\"]==\"\")]\n"
   ]
  },
  {
   "cell_type": "code",
   "execution_count": 25,
   "metadata": {},
   "outputs": [],
   "source": [
    "\n",
    "\n",
    "def geforce_series(row):\n",
    "    if row[\"series\"] != \"GeForce\":\n",
    "        return \"\"\n",
    "    if not row[\"number\"].isnumeric():\n",
    "        return \"\"\n",
    "    scale = 100\n",
    "    series = f\"GeForce {int(int(row['number'])/scale)}\"\n",
    "    return series\n",
    "\n",
    "def get_vendor_series(row):\n",
    "    if row[\"series\"] == \"GeForce\":\n",
    "        return geforce_series(row)\n",
    "\n",
    "df[\"Vendor Series\"] = df.apply(lambda row: geforce_series(row), axis=1)\n",
    "\n",
    "series = {}\n",
    "for item in df[\"Vendor Series\"].unique():\n",
    "    if item == \"\":\n",
    "        continue\n",
    "    elif item is None:\n",
    "        continue\n",
    "    series[item] = get_or_create(s,  Series, series=item)\n",
    "    \n",
    "mfgs = {}\n",
    "for item in df[\"mfg\"].unique():\n",
    "    if item == \"\":\n",
    "        continue\n",
    "    elif item is None:\n",
    "        continue\n",
    "    mfgs[item] = get_or_create(s,  Manufacturer, manufacturer=item)\n",
    "\n",
    "brands = {}\n",
    "for item in df[\"brand\"].unique():\n",
    "    if item == \"\":\n",
    "        continue\n",
    "    elif item is None:\n",
    "        continue\n",
    "        \n",
    "    brands[item] = get_or_create(s,  Brand, brand=item)\n",
    "\n",
    "\"\"\"\n",
    "This adds all the gpus found above to the databse, but not sure that we actually want that data\n",
    "\n",
    "\n",
    "gpus = []\n",
    "for idx in range(len(df)):\n",
    "    row = df.iloc[idx]\n",
    "    price = None\n",
    "    if row[\"price\"] != \"0\":\n",
    "        price = float(row[\"price\"])\n",
    "    try:\n",
    "        gpu = GPU(\n",
    "            name = row[\"name\"],\n",
    "            brand_id = brands[row[\"brand\"]].id,\n",
    "            manufacturer_id = mfgs[row[\"mfg\"]].id,\n",
    "            series_id = series[row[\"Vendor Series\"]].id,\n",
    "            chipset = row[\"chipset\"],\n",
    "            prefix = row[\"prefix\"],\n",
    "            number = int(row[\"number\"]),\n",
    "            pcpartpicker_url = row[\"url\"],\n",
    "            pcpartpicker_price = price,       \n",
    "                )\n",
    "        gpus.append(gpu)\n",
    "    except KeyError:\n",
    "        pass\n",
    "s.bulk_save_objects(gpus)\n",
    "s.commit()\n",
    "\"\"\"\n",
    "None"
   ]
  },
  {
   "cell_type": "raw",
   "metadata": {},
   "source": [
    "\"\"\"\n",
    "This maps each post to a brand or manufacturer. Not sure if this is acutally usefull\n",
    "\"\"\"\n",
    "post_brand = []\n",
    "\n",
    "for brand in s.query(Brand):\n",
    "    post_ids = s.query(Post.id).filter(func.lower(Post.selftext).contains(brand.brand.lower())).all()\n",
    "    post_brand += [PostBrand(post_id=post_id[0], brand_id=brand.id) for post_id in post_ids]\n",
    "    \n",
    "s.bulk_save_objects(post_brand)\n",
    "s.commit()\n",
    "\n",
    "post_mfg = []\n",
    "for mfg in s.query(Manufacturer):\n",
    "    post_ids = s.query(Post.id).filter(func.lower(Post.selftext).contains(mfg.manufacturer.lower())).all()\n",
    "    post_mfg += [PostManufacturer(post_id=post_id[0], manufacturer_id=mfg.id) for post_id in post_ids]\n",
    "    \n",
    "s.bulk_save_objects(post_mfg)\n",
    "s.commit()"
   ]
  },
  {
   "cell_type": "code",
   "execution_count": 29,
   "metadata": {},
   "outputs": [],
   "source": [
    "s.rollback()"
   ]
  },
  {
   "cell_type": "code",
   "execution_count": 30,
   "metadata": {},
   "outputs": [],
   "source": [
    "item_type_gpu = get_or_create(s, ItemType, item_type=\"gpu\")\n",
    "brand_nvidia = s.query(Brand).filter(Brand.brand==\"nvidia\").one()\n",
    "manufacturers = {item.manufacturer.lower(): item.id for item in s.query(Manufacturer).all()}"
   ]
  },
  {
   "cell_type": "code",
   "execution_count": 31,
   "metadata": {},
   "outputs": [
    {
     "name": "stderr",
     "output_type": "stream",
     "text": [
      "100%|██████████| 47967/47967 [00:29<00:00, 1625.57it/s]\n"
     ]
    }
   ],
   "source": [
    "f_geforce = re.compile(\"(?P<mfg>(?:Asus)|(?:Gigabyte)|(?:EVGA)|(?:MS)|(?:PNY)|(?:Zotac)|(?:GALAX)|(?:BFG)|(?:NVIDIA))?\\s?\"\\\n",
    "                       \"(?P<prefix>(?:GTX)|(?:RTX)|(?:GT)|(?:GTS))\\s?\"\\\n",
    "                       \"(?P<number>[123]?[0245679][1-9]0)\\s?\"\\\n",
    "                       \"(?P<variant>(?:Ti|m))?\\s?\"\\\n",
    "                       \"(?P<edition>(?:FE|founder\\'?s\\sedition))?\"\\\n",
    "                       \".{0,100}?\"+ # consume as few characters as possible to the first price\n",
    "                       \"(?P<price>\\$(?:\\d{1,3},?)(?:\\d{1,3})(?:\\.\\d\\d)?)\" + # Prices must start with '$'. Max price is 999,999.99.  Does not need decimals. Can contain ',' as a thousands separator\n",
    "                       \"(?P<price_external>(?:.{0,100})(?:\\@.{0,100}))?\", # Try and determine if the detected price is coming from some external source (ie referenceing PC Part Picker)\n",
    "                      re.IGNORECASE)\n",
    "f_founders_edition = re.compile(\"(?:FE|founder\\'?s\\?sedition)\", re.IGNORECASE)\n",
    "\n",
    "items = []\n",
    "for post in tqdm.tqdm(\n",
    "        s.query(Post.id, Post.have, Post.selftext, Post.created_utc)\n",
    "            #.join(PostManufacturer, Post.id==PostManufacturer.post_id)\n",
    "            #.join(Manufacturer, PostManufacturer.manufacturer_id==Manufacturer.id)\n",
    "            #.filter(Manufacturer.manufacturer==\"nvidia\")\n",
    "            .filter(Post.post_type_id==2)\n",
    "            .order_by(Post.created_utc)\n",
    "            #.limit(2000)\n",
    "            .all()\n",
    "        ):\n",
    "    if post[2] is None:\n",
    "        continue\n",
    "    \n",
    "    items_existing = s.query(Item.id, Item.location_in_post_start, Item.location_in_post_end).filter(Item.post_id==\"5ngvid\").all()\n",
    "    \n",
    "    for match in f_geforce.finditer(post[2]):\n",
    "        \n",
    "        # See if match overlaps with any existing items\n",
    "        # at a later date this could be used to update the existing item\n",
    "        start = match.start()\n",
    "        end = match.end()\n",
    "        found_overlap = False\n",
    "        for ie in items_existing:\n",
    "            if (start >= ie[1] & start <= ie[2]) | (end >= ie[1] & end <= ie[2]) | (start <= ie[1] &  end >= ie[2]):\n",
    "                found_overlap = True\n",
    "                break\n",
    "        if found_overlap:\n",
    "            continue\n",
    "        \n",
    "        data = match.groupdict()\n",
    "        \n",
    "        manufacturer = data[\"mfg\"]\n",
    "        if manufacturer is not None:\n",
    "            manufacturer_id = manufacturers.get(data[\"mfg\"].lower())\n",
    "        else:\n",
    "            manufacturer_id = None\n",
    "            \n",
    "        variant = data[\"variant\"]\n",
    "        if variant is not None:\n",
    "            variant = variant.lower()\n",
    "        \n",
    "        edition = data[\"edition\"]\n",
    "        if edition is not None:\n",
    "            if len(f_founders_edition.findall(edition)) > 0:\n",
    "                edition = \"FE\"\n",
    "            \n",
    "        price = float(data[\"price\"].strip(\"$\").replace(\",\",\"\"))\n",
    "        \n",
    "        items.append(\n",
    "            Item(\n",
    "                    post_id = post[0],\n",
    "                    item_type_id = item_type_gpu.id,\n",
    "                    brand_id = brand_nvidia.id,\n",
    "                    manufacturer_id = manufacturer_id,\n",
    "                    number = data[\"number\"],\n",
    "                    variant = variant,\n",
    "                    edition = edition,\n",
    "                    price = price,\n",
    "                    price_possibly_external = data[\"price_external\"] is not None, \n",
    "                    location_in_post_start = match.start(),\n",
    "                    location_in_post_end = match.end(),\n",
    "                )\n",
    "        )\n",
    "        \n",
    "    #print(\"-\"*50)\n",
    "    #if len(matches) == 3:\n",
    "    #    break\n",
    "s.bulk_save_objects(items)\n",
    "s.commit()"
   ]
  },
  {
   "cell_type": "code",
   "execution_count": 32,
   "metadata": {},
   "outputs": [
    {
     "name": "stdout",
     "output_type": "stream",
     "text": [
      "(218, 518, 540)\n",
      "(219, 601, 621)\n"
     ]
    }
   ],
   "source": [
    "items_existing = s.query(Item.id, Item.location_in_post_start, Item.location_in_post_end).filter(Item.post_id==\"5ngvid\").all()\n",
    "\n",
    "for item in items_existing:\n",
    "    print(item)\n"
   ]
  },
  {
   "cell_type": "code",
   "execution_count": 38,
   "metadata": {},
   "outputs": [],
   "source": [
    "import numpy as np\n",
    "import matplotlib.pyplot as plt"
   ]
  },
  {
   "cell_type": "code",
   "execution_count": 48,
   "metadata": {},
   "outputs": [],
   "source": [
    "r = s.query(Post.created_utc,Item.price).join(Post, Post.id==Item.post_id).join(ItemType, ItemType.id==Item.item_type_id).filter(Item.number==\"3070\").all()"
   ]
  },
  {
   "cell_type": "code",
   "execution_count": 49,
   "metadata": {},
   "outputs": [
    {
     "data": {
      "text/plain": [
       "[<matplotlib.lines.Line2D at 0x7f9a5d468860>]"
      ]
     },
     "execution_count": 49,
     "metadata": {},
     "output_type": "execute_result"
    },
    {
     "data": {
      "image/png": "[encoded data removed]",
      "text/plain": [
       "<Figure size 432x288 with 1 Axes>"
      ]
     },
     "metadata": {
      "needs_background": "light"
     },
     "output_type": "display_data"
    }
   ],
   "source": [
    "r = np.array(r)\n",
    "plt.plot(r[:,0], r[:,1])"
   ]
  },
  {
   "cell_type": "code",
   "execution_count": null,
   "metadata": {},
   "outputs": [],
   "source": [
    "cards = pd.DataFrame(matching_posts)\n",
    "cards.sort_values(\"created\", inplace=True)\n",
    "cards.reset_index(inplace=True, drop=True)\n",
    "print(len(cards))"
   ]
  },
  {
   "cell_type": "code",
   "execution_count": null,
   "metadata": {},
   "outputs": [],
   "source": [
    "cards"
   ]
  },
  {
   "cell_type": "code",
   "execution_count": null,
   "metadata": {},
   "outputs": [],
   "source": [
    "cards[cards[\"number\"]=='3080'].groupby([\"number\",\"variant\", \"edition\"]).size()"
   ]
  },
  {
   "cell_type": "code",
   "execution_count": null,
   "metadata": {},
   "outputs": [],
   "source": [
    "cards.groupby([\"mfg\"]).size()"
   ]
  },
  {
   "cell_type": "code",
   "execution_count": null,
   "metadata": {},
   "outputs": [],
   "source": []
  },
  {
   "cell_type": "code",
   "execution_count": null,
   "metadata": {},
   "outputs": [],
   "source": [
    "s.query(Item.id, Item.number).all()"
   ]
  },
  {
   "cell_type": "code",
   "execution_count": null,
   "metadata": {},
   "outputs": [],
   "source": [
    "plt.rcParams[\"figure.figsize\"] = [20,10]\n",
    "matching_query = cards[(cards[\"number\"]==\"2080\") & (cards[\"variant\"]==\"Ti\") & (cards[\"price_external\"]==\"\")]\n",
    "#plt.plot(matching_query[\"created\"], matching_query[\"price\"])\n",
    "\n",
    "matching_query = cards[(cards[\"number\"]==\"2080\") & (cards[\"variant\"]==\"\") & (cards[\"price_external\"]==\"\")]\n",
    "#plt.plot(matching_query[\"created\"], matching_query[\"price\"])\n",
    "\n"
   ]
  },
  {
   "cell_type": "code",
   "execution_count": null,
   "metadata": {},
   "outputs": [],
   "source": [
    "matching_query = cards[(cards[\"number\"]==\"3070\") & (cards[\"variant\"]==\"\") & (cards[\"price_external\"]==\"\")]\n",
    "\n",
    "std = matching_query[\"price\"].std()\n",
    "mean = matching_query[\"price\"].mean()\n",
    "price_min = mean - std\n",
    "price_max = mean + std\n",
    "\n",
    "\n",
    "matching_query_filtered = matching_query[(matching_query[\"price\"]>=price_min) & (matching_query[\"price\"]<=price_max) ]\n",
    "\n",
    "print(f\"Mean and std used: {mean:.2f} {std:.2f}\")\n",
    "print(f\"Mean and std new : {matching_query_filtered['price'].mean():.2f} { matching_query_filtered['price'].std():.2f}\")\n",
    "\n",
    "plt.plot(matching_query[\"created\"], matching_query[\"price\"])\n",
    "plt.plot(matching_query_filtered[\"created\"], matching_query_filtered[\"price\"])\n",
    "plt.ylim((0,1500))"
   ]
  },
  {
   "cell_type": "code",
   "execution_count": null,
   "metadata": {},
   "outputs": [],
   "source": [
    "matching_query[(matching_query[\"price\"]>100) & (matching_query[\"price\"]<200) ]# & (matching_query[\"created\"]>datetime.datetime(year=2019, month=7, day=1))]"
   ]
  },
  {
   "cell_type": "code",
   "execution_count": null,
   "metadata": {},
   "outputs": [],
   "source": [
    "print(s.query(Post).get(\"jypcbl\").selftext)"
   ]
  },
  {
   "cell_type": "code",
   "execution_count": null,
   "metadata": {},
   "outputs": [],
   "source": [
    "matching_query[matching_query[\"post_id\"]==\"dcyhwu\"]"
   ]
  },
  {
   "cell_type": "code",
   "execution_count": null,
   "metadata": {},
   "outputs": [],
   "source": []
  },
  {
   "cell_type": "code",
   "execution_count": 54,
   "metadata": {},
   "outputs": [
    {
     "data": {
      "text/plain": [
       "array([[datetime.datetime(2017, 10, 29, 4, 50, 12), 92.0],\n",
       "       [datetime.datetime(2018, 5, 30, 4, 43, 57), 80.0],\n",
       "       [datetime.datetime(2018, 9, 15, 17, 39, 6), 240.0],\n",
       "       [datetime.datetime(2018, 10, 5, 22, 20, 2), 75.0],\n",
       "       [datetime.datetime(2019, 5, 9, 23, 50, 2), 55.0],\n",
       "       [datetime.datetime(2019, 6, 17, 4, 16, 31), 60.0],\n",
       "       [datetime.datetime(2019, 10, 23, 2, 34, 27), 60.0],\n",
       "       [datetime.datetime(2020, 5, 13, 19, 19, 24), 75.0],\n",
       "       [datetime.datetime(2020, 7, 28, 5, 2, 18), 70.0],\n",
       "       [datetime.datetime(2020, 8, 2, 19, 29, 21), 300.0],\n",
       "       [datetime.datetime(2020, 8, 2, 19, 29, 21), 300.0],\n",
       "       [datetime.datetime(2020, 11, 30, 18, 16, 46), 65.0],\n",
       "       [datetime.datetime(2021, 5, 12, 22, 33, 58), 95.0],\n",
       "       [datetime.datetime(2021, 5, 12, 22, 36, 27), 95.0],\n",
       "       [datetime.datetime(2021, 5, 27, 21, 55, 59), 95.0],\n",
       "       [datetime.datetime(2021, 8, 2, 20, 1, 34), 80.0],\n",
       "       [datetime.datetime(2021, 8, 9, 13, 57, 21), 85.0],\n",
       "       [datetime.datetime(2021, 8, 13, 21, 55, 51), 70.0]], dtype=object)"
      ]
     },
     "execution_count": 54,
     "metadata": {},
     "output_type": "execute_result"
    }
   ],
   "source": [
    "number=\"1030\"\n",
    "edition=None\n",
    "variant=None\n",
    "result = s.query(Post.created_utc, Item.price).join(Item, Item.post_id==Post.id).filter(Item.number==number, Item.variant==variant, Item.edition==edition).order_by(Post.created_utc).all()\n",
    "np.array(result)"
   ]
  },
  {
   "cell_type": "code",
   "execution_count": null,
   "metadata": {},
   "outputs": [],
   "source": []
  }
 ],
 "metadata": {
  "kernelspec": {
   "display_name": "Python 3",
   "language": "python",
   "name": "python3"
  },
  "language_info": {
   "codemirror_mode": {
    "name": "ipython",
    "version": 3
   },
   "file_extension": ".py",
   "mimetype": "text/x-python",
   "name": "python",
   "nbconvert_exporter": "python",
   "pygments_lexer": "ipython3",
   "version": "3.6.9"
  }
 },
 "nbformat": 4,
 "nbformat_minor": 4
}
